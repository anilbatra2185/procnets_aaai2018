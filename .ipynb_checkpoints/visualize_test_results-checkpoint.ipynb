{
 "cells": [
  {
   "cell_type": "code",
   "execution_count": 1,
   "id": "281d73c7-2f84-4495-878f-2628c841df86",
   "metadata": {},
   "outputs": [],
   "source": [
    "import os\n",
    "import random\n",
    "\n",
    "import numpy as np\n",
    "import torch as th\n",
    "import torch.nn as nn\n",
    "from torch.utils.data import DataLoader\n",
    "from tqdm import tqdm\n",
    "\n",
    "from dataset import YC2ProcNetDataset\n",
    "from models.model import ProcNet"
   ]
  },
  {
   "cell_type": "code",
   "execution_count": 2,
   "id": "8f5ebb38-65e0-44fb-83a4-d8aeed78b2fa",
   "metadata": {},
   "outputs": [],
   "source": [
    "feature_root = \"/disk/scratch_fast/s2004019/youcook2/raw_videos\"\n",
    "yc2_dur_file = \"/disk/scratch_fast/s2004019/youcook2/yc2/yc2_duration_frame.csv\"\n",
    "yc2_annotation_file = \"/disk/scratch_fast/s2004019/youcook2/yc2/yc2_new_annotations_trainval_test.json\"\n",
    "checkpoint_dir = \"/disk/scratch_fast/s2004019/youcook2/checkpoints/procnet/run7_iou\"\n",
    "post_fix = \"_iou\"\n",
    "# post_fix = \"_iou_run3_aug5_exp_scheduler\"\n",
    "# post_fix = \"_epoch8_iou_run3_aug5_exp_scheduler\"\n",
    "frames_per_video = 500"
   ]
  },
  {
   "cell_type": "code",
   "execution_count": 3,
   "id": "d744ed75-e8cb-4063-ab65-6a696bf15a24",
   "metadata": {},
   "outputs": [],
   "source": [
    "checkpoint_path = os.path.join(checkpoint_dir, \"model_best{}.pth.tar\".format(post_fix))"
   ]
  },
  {
   "cell_type": "code",
   "execution_count": 4,
   "id": "db5f2b29-5f27-42ff-a01c-bc7c111c3ef3",
   "metadata": {},
   "outputs": [],
   "source": [
    "test_dataset = YC2ProcNetDataset(feature_root=feature_root,\n",
    "                                 data_file=\"validation_frames.json\",\n",
    "                                 dur_file=yc2_dur_file,\n",
    "                                 annotation_file=yc2_annotation_file,\n",
    "                                 split=\"validation\", frames_per_video=frames_per_video, max_augs=1)\n",
    "test_dataloader = DataLoader(\n",
    "    test_dataset, batch_size=1, shuffle=False, num_workers=16)"
   ]
  },
  {
   "cell_type": "code",
   "execution_count": 5,
   "id": "64dde112-c644-4b46-af9a-61912bcfd841",
   "metadata": {},
   "outputs": [
    {
     "data": {
      "text/plain": [
       "ProcNet(\n",
       "  (core1): LSTM(512, 512, batch_first=True, bidirectional=True)\n",
       "  (mlp): Sequential(\n",
       "    (0): Linear(in_features=1536, out_features=512, bias=True)\n",
       "    (1): ReLU()\n",
       "  )\n",
       "  (temporal_segment): TemporalSegmentation(\n",
       "    (ts): ModuleList(\n",
       "      (0): Conv1d(512, 3, kernel_size=(3,), stride=(1,))\n",
       "      (1): Conv1d(512, 3, kernel_size=(11,), stride=(1,))\n",
       "      (2): Conv1d(512, 3, kernel_size=(19,), stride=(1,))\n",
       "      (3): Conv1d(512, 3, kernel_size=(27,), stride=(1,))\n",
       "      (4): Conv1d(512, 3, kernel_size=(35,), stride=(1,))\n",
       "      (5): Conv1d(512, 3, kernel_size=(43,), stride=(1,))\n",
       "      (6): Conv1d(512, 3, kernel_size=(51,), stride=(1,))\n",
       "      (7): Conv1d(512, 3, kernel_size=(59,), stride=(1,))\n",
       "      (8): Conv1d(512, 3, kernel_size=(67,), stride=(1,))\n",
       "      (9): Conv1d(512, 3, kernel_size=(75,), stride=(1,))\n",
       "      (10): Conv1d(512, 3, kernel_size=(83,), stride=(1,))\n",
       "      (11): Conv1d(512, 3, kernel_size=(91,), stride=(1,))\n",
       "      (12): Conv1d(512, 3, kernel_size=(99,), stride=(1,))\n",
       "      (13): Conv1d(512, 3, kernel_size=(107,), stride=(1,))\n",
       "      (14): Conv1d(512, 3, kernel_size=(115,), stride=(1,))\n",
       "      (15): Conv1d(512, 3, kernel_size=(123,), stride=(1,))\n",
       "    )\n",
       "    (proposal_score_fn): Sigmoid()\n",
       "    (lenth_offset_fn): Tanh()\n",
       "    (center_offset_fn): Tanh()\n",
       "  )\n",
       "  (score_maxpool): MaxPool2d(kernel_size=(8, 5), stride=(8, 5), padding=0, dilation=1, ceil_mode=False)\n",
       "  (loc_embedding): Embedding(201, 200)\n",
       "  (core2): LSTMCell(600, 200)\n",
       "  (dropout): Dropout(p=0.5, inplace=False)\n",
       "  (seq_fc): Linear(in_features=200, out_features=201, bias=True)\n",
       "  (vis_feat_linear): Linear(in_features=512, out_features=200, bias=True)\n",
       ")"
      ]
     },
     "execution_count": 5,
     "metadata": {},
     "output_type": "execute_result"
    }
   ],
   "source": [
    "model = ProcNet(input_encoding_size=512, rnn_size=512, clip_number=16,\n",
    "                    kernelInfo=[3, 123, 8], frames_per_video=frames_per_video,\n",
    "                    mp_scale=(8, 5), video_feat=512)\n",
    "\n",
    "model.eval()\n",
    "model.cuda()"
   ]
  },
  {
   "cell_type": "code",
   "execution_count": 6,
   "id": "5c5b3d5c-94a5-4ef1-ba89-2f283434aa7c",
   "metadata": {},
   "outputs": [
    {
     "name": "stdout",
     "output_type": "stream",
     "text": [
      "=> loaded checkpoint '/disk/scratch_fast/s2004019/youcook2/checkpoints/procnet/run7_iou/model_best_iou.pth.tar' (epoch 3) with best mIoU : 0.3617170168005902\n"
     ]
    }
   ],
   "source": [
    "def getParllelNetworkStateDict(state_dict):\n",
    "    from collections import OrderedDict\n",
    "\n",
    "    new_state_dict = OrderedDict()\n",
    "    for k, v in state_dict.items():\n",
    "        name = k[7:]  # remove `module.`\n",
    "        new_state_dict[name] = v\n",
    "    return new_state_dict\n",
    "\n",
    "checkpoint = th.load(checkpoint_path)\n",
    "model_state_dict = getParllelNetworkStateDict(checkpoint[\"state_dict\"])\n",
    "model.load_state_dict(model_state_dict)\n",
    "best_iou = checkpoint[\"miou\"]\n",
    "print(\"=> loaded checkpoint '{}' (epoch {}) with best mIoU : {}\".format(checkpoint_path, checkpoint[\"epoch\"], best_iou))"
   ]
  },
  {
   "cell_type": "code",
   "execution_count": 7,
   "id": "da0d36d5-099a-4530-b957-4f3b18515d5a",
   "metadata": {},
   "outputs": [],
   "source": [
    "def compute_iou(c2, c1):\n",
    "    intersection = max(0, min(c1[1], c2[1])-max(c1[0], c2[0]))\n",
    "    if intersection == 0:\n",
    "        return 0\n",
    "    else:\n",
    "        union = max(c1[1], c2[1]) - min(c1[0], c2[0])\n",
    "        return intersection/union\n",
    "    \n",
    "    \n",
    "def compute_jacc(c2, c1):\n",
    "    intersection = max(0, min(c1[1], c2[1])-max(c1[0], c2[0]))\n",
    "    if intersection == 0:\n",
    "        return 0\n",
    "    else:\n",
    "        union = c2[1]-c2[0]\n",
    "        return intersection/union\n",
    "\n",
    "\n",
    "def validate_epoch(eval_dataloader, model):\n",
    "    model.eval()\n",
    "    running_loss = 0.0\n",
    "    valid_bar = tqdm(enumerate(eval_dataloader), total=len(eval_dataloader))\n",
    "    avg_miou = []\n",
    "    avg_jacc = []\n",
    "    results = {}\n",
    "    raw_results = {}\n",
    "    with th.no_grad():\n",
    "        for i_batch, data in valid_bar:\n",
    "            feat = data[\"feature\"].float().cuda()\n",
    "            gt_segments = data[\"segments\"].float()\n",
    "            task = data[\"task\"]\n",
    "            vid = data[\"vid\"][0]\n",
    "            \n",
    "            _, maxpool_boundaries, pred_seg_index, _ = model(feat, None)\n",
    "            l = maxpool_boundaries.size(-1)\n",
    "            iou_clip = 0.\n",
    "            jacc_clip = 0.\n",
    "            n_segments = gt_segments.size(1)\n",
    "            per_video_result = {}\n",
    "\n",
    "            per_video_raw_preds = {}\n",
    "            for j in range(len(pred_seg_index)):\n",
    "                column = pred_seg_index[j] % l\n",
    "                row = pred_seg_index[j] // l\n",
    "                clip_boundary = maxpool_boundaries[0, :, row, column]\n",
    "                per_video_raw_preds[j] = clip_boundary.cpu().numpy()\n",
    "            raw_results[vid] = per_video_raw_preds\n",
    "            for i in range(n_segments):\n",
    "                best_iou = 0.\n",
    "                best_jacc = 0.\n",
    "                best_clip = []\n",
    "                best_index = -1\n",
    "                for j in range(len(pred_seg_index)):\n",
    "#                     if pred_seg_index[j] == model.clip_prop_encoding:\n",
    "#                         print(\"breaking\")\n",
    "#                         break\n",
    "                    column = pred_seg_index[j] % l\n",
    "                    row = pred_seg_index[j] // l\n",
    "                    clip_boundary = maxpool_boundaries[0, :, row, column]\n",
    "                    current_iou = compute_iou(\n",
    "                        clip_boundary.cpu().numpy(), gt_segments[0][i].cpu().numpy())\n",
    "                    current_jacc = compute_jacc(\n",
    "                        clip_boundary.cpu().numpy(), gt_segments[0][i].cpu().numpy())\n",
    "                    if current_iou > best_iou:\n",
    "                        best_iou = current_iou\n",
    "                        best_clip = clip_boundary.cpu().numpy()\n",
    "                        best_index = j\n",
    "                    if current_jacc > best_jacc:\n",
    "                        best_jacc = current_jacc\n",
    "                per_video_result[str(i)] = {\"iou\": best_iou, \"gt\":list(gt_segments[0][i].cpu().numpy()), \"pred\":list(best_clip), \"best_index\":best_index}\n",
    "                iou_clip += best_iou\n",
    "                jacc_clip += best_jacc\n",
    "            results[vid] = per_video_result   \n",
    "            avg_miou.append(iou_clip/n_segments)\n",
    "            avg_jacc.append(jacc_clip/n_segments)\n",
    "    return avg_miou, avg_jacc, results, raw_results"
   ]
  },
  {
   "cell_type": "code",
   "execution_count": 8,
   "id": "5745a4b2-40a2-4130-9ed8-6321c4bda729",
   "metadata": {},
   "outputs": [
    {
     "name": "stderr",
     "output_type": "stream",
     "text": [
      "100%|██████████| 180/180 [00:32<00:00,  5.49it/s]"
     ]
    },
    {
     "name": "stdout",
     "output_type": "stream",
     "text": [
      "Testing mIoU is 0.347653728331278 and mJacc is 0.5317526235371772\n"
     ]
    },
    {
     "name": "stderr",
     "output_type": "stream",
     "text": [
      "\n"
     ]
    }
   ],
   "source": [
    "avg_miou, avg_jacc, results, raw_results = validate_epoch(test_dataloader, model)\n",
    "print(f\"Testing mIoU is {np.nanmean(avg_miou)} and mJacc is {np.nanmean(avg_jacc)}\")"
   ]
  },
  {
   "cell_type": "code",
   "execution_count": 9,
   "id": "de223d43-f934-4ecb-a5f3-f2a7ab7e7ab9",
   "metadata": {},
   "outputs": [],
   "source": [
    "# Testing mIoU is 0.4844937084824859 and mJacc is 0.6039762745414246"
   ]
  },
  {
   "cell_type": "code",
   "execution_count": 10,
   "id": "2d7330c5-1341-4a0e-8204-f8cba059b22a",
   "metadata": {},
   "outputs": [
    {
     "data": {
      "text/plain": [
       "(180, 199)"
      ]
     },
     "execution_count": 10,
     "metadata": {},
     "output_type": "execute_result"
    }
   ],
   "source": [
    "len(results), model.clip_prop_encoding-1"
   ]
  },
  {
   "cell_type": "code",
   "execution_count": 9,
   "id": "8abfc2a7-abb6-4c59-a004-b84e4ea90b06",
   "metadata": {},
   "outputs": [
    {
     "data": {
      "text/plain": [
       "{0: array([60.321068, 93.694954], dtype=float32),\n",
       " 1: array([65.32107 , 98.694954], dtype=float32),\n",
       " 2: array([ 95.32107, 128.69495], dtype=float32),\n",
       " 3: array([102.32107, 135.69495], dtype=float32),\n",
       " 4: array([132.32108, 165.69495], dtype=float32),\n",
       " 5: array([164.32108, 197.69495], dtype=float32),\n",
       " 6: array([205.32108, 238.69495], dtype=float32),\n",
       " 7: array([237.32108, 270.69495], dtype=float32),\n",
       " 8: array([255.32104, 288.69495], dtype=float32),\n",
       " 9: array([325.32104, 358.69495], dtype=float32),\n",
       " 10: array([325.32104, 358.69495], dtype=float32),\n",
       " 11: array([325.32104, 358.69495], dtype=float32),\n",
       " 12: array([325.32104, 358.69495], dtype=float32),\n",
       " 13: array([325.32104, 358.69495], dtype=float32),\n",
       " 14: array([428.65292, 450.2576 ], dtype=float32),\n",
       " 15: array([325.32104, 358.69495], dtype=float32)}"
      ]
     },
     "execution_count": 9,
     "metadata": {},
     "output_type": "execute_result"
    }
   ],
   "source": [
    "ind_ = 14\n",
    "# list(results.keys())[ind_], results[list(results.keys())[ind_]], \n",
    "raw_results[list(results.keys())[ind_]]"
   ]
  },
  {
   "cell_type": "code",
   "execution_count": 10,
   "id": "da14e041-4932-413e-a8a7-8d69dcc747b9",
   "metadata": {},
   "outputs": [
    {
     "data": {
      "text/plain": [
       "{0: array([61.321068, 94.694954], dtype=float32),\n",
       " 1: array([66.32107 , 99.694954], dtype=float32),\n",
       " 2: array([ 93.32107 , 126.694954], dtype=float32),\n",
       " 3: array([101.32107, 134.69495], dtype=float32),\n",
       " 4: array([131.32108, 164.69495], dtype=float32),\n",
       " 5: array([167.32108, 200.69495], dtype=float32),\n",
       " 6: array([205.32108, 238.69495], dtype=float32),\n",
       " 7: array([237.32108, 270.69495], dtype=float32),\n",
       " 8: array([257.32104, 290.69495], dtype=float32),\n",
       " 9: array([326.32104, 359.69495], dtype=float32),\n",
       " 10: array([326.32104, 359.69495], dtype=float32),\n",
       " 11: array([326.32104, 359.69495], dtype=float32),\n",
       " 12: array([326.32104, 359.69495], dtype=float32),\n",
       " 13: array([326.32104, 359.69495], dtype=float32),\n",
       " 14: array([374.1284, 446.7816], dtype=float32),\n",
       " 15: array([326.32104, 359.69495], dtype=float32)}"
      ]
     },
     "execution_count": 10,
     "metadata": {},
     "output_type": "execute_result"
    }
   ],
   "source": [
    "ind_ = 98\n",
    "# list(results.keys())[ind_], results[list(results.keys())[ind_]], \n",
    "raw_results[list(results.keys())[ind_]]"
   ]
  },
  {
   "cell_type": "code",
   "execution_count": 11,
   "id": "54577cf3-3e2c-4072-ab93-588424de3c3e",
   "metadata": {},
   "outputs": [
    {
     "data": {
      "text/plain": [
       "{0: array([58.321068, 91.694954], dtype=float32),\n",
       " 1: array([ 77.32107 , 110.694954], dtype=float32),\n",
       " 2: array([100.32107, 133.69495], dtype=float32),\n",
       " 3: array([129.32108, 162.69495], dtype=float32),\n",
       " 4: array([164.32108, 197.69495], dtype=float32),\n",
       " 5: array([203.32108, 236.69495], dtype=float32),\n",
       " 6: array([234.32108, 267.69495], dtype=float32),\n",
       " 7: array([256.32104, 289.69495], dtype=float32),\n",
       " 8: array([327.32104, 360.69495], dtype=float32),\n",
       " 9: array([327.32104, 360.69495], dtype=float32),\n",
       " 10: array([327.32104, 360.69495], dtype=float32),\n",
       " 11: array([327.32104, 360.69495], dtype=float32),\n",
       " 12: array([357.8494, 386.8795], dtype=float32),\n",
       " 13: array([327.32104, 360.69495], dtype=float32),\n",
       " 14: array([327.32104, 360.69495], dtype=float32),\n",
       " 15: array([357.8494, 386.8795], dtype=float32)}"
      ]
     },
     "execution_count": 11,
     "metadata": {},
     "output_type": "execute_result"
    }
   ],
   "source": [
    "ind_ = 156\n",
    "# list(results.keys())[ind_], results[list(results.keys())[ind_]], \n",
    "raw_results[list(results.keys())[ind_]]"
   ]
  },
  {
   "cell_type": "code",
   "execution_count": null,
   "id": "a56590d0-b001-438a-98dc-b53a0d284a43",
   "metadata": {},
   "outputs": [],
   "source": []
  },
  {
   "cell_type": "code",
   "execution_count": 14,
   "id": "a91fdf13-f681-424b-a9bc-9325d85ccaed",
   "metadata": {},
   "outputs": [
    {
     "name": "stdout",
     "output_type": "stream",
     "text": [
      "{\n",
      "    \"0\": \"[68.14183, 117.15561]\",\n",
      "    \"1\": \"[84.14755, 134.9491]\",\n",
      "    \"2\": \"[135.89635, 156.42366]\",\n",
      "    \"3\": \"[181.16602, 216.93011]\",\n",
      "    \"4\": \"[215.98392, 257.88126]\",\n",
      "    \"5\": \"[269.7658, 311.92828]\",\n",
      "    \"6\": \"[291.0036, 326.789]\",\n",
      "    \"7\": \"[326.0857, 361.1903]\",\n",
      "    \"8\": \"[378.85477, 402.00937]\",\n",
      "    \"9\": \"[401.35873, 432.45865]\",\n",
      "    \"10\": \"[430.66473, 476.51892]\",\n",
      "    \"11\": \"[430.66473, 476.51892]\",\n",
      "    \"12\": \"[430.66473, 476.51892]\",\n",
      "    \"13\": \"[430.66473, 476.51892]\",\n",
      "    \"14\": \"[430.66473, 476.51892]\",\n",
      "    \"15\": \"[430.66473, 476.51892]\"\n",
      "}\n"
     ]
    }
   ],
   "source": [
    "import json\n",
    "test = raw_results[list(results.keys())[ind_]]\n",
    "test = {str(k):str(list(v)) for k,v in test.items()}\n",
    "print(json.dumps(test, indent=4))"
   ]
  },
  {
   "cell_type": "code",
   "execution_count": 26,
   "id": "8622aa10-ccb6-4af0-9797-4d58c0025fbf",
   "metadata": {},
   "outputs": [],
   "source": [
    "def Average(lst):\n",
    "    return sum(lst) / len(lst)\n",
    "\n",
    "results_vid_iou = {vid:Average([v['iou'] for k,v in result.items()]) for vid, result in results.items()} "
   ]
  },
  {
   "cell_type": "code",
   "execution_count": 54,
   "id": "612fe57d-ef2b-4b1c-9295-3b95121fa9da",
   "metadata": {},
   "outputs": [],
   "source": [
    "results_vid_iou_good = {k:v for k,v in results_vid_iou.items() if v > 0.64}\n",
    "results_vid_iou_bad = {k:v for k,v in results_vid_iou.items() if v < 0.29}"
   ]
  },
  {
   "cell_type": "code",
   "execution_count": 55,
   "id": "5c29b58d-af02-41d8-865d-b0cf420759c3",
   "metadata": {},
   "outputs": [
    {
     "data": {
      "text/plain": [
       "({'vLcBGs389k4': 0.6491352468729019,\n",
       "  'zPCtV7YcmkA': 0.6616055568059286,\n",
       "  '4apR0YypAGc': 0.6538130715489388,\n",
       "  'WlHWRPyA7_g': 0.6866569618384043,\n",
       "  'DHpQOhQhW3A': 0.6465556025505066},\n",
       " {'sBJJ0Cj0GG4': 0.2877267375588417,\n",
       "  'fn9anlEL4FI': 0.28432218823581934,\n",
       "  '-dh_uGahzYo': 0.170203671273258,\n",
       "  '2-mxsib6pJo': 0.28805758378335405,\n",
       "  'sGzBQrg1adY': 0.19011149276047945,\n",
       "  '6seOEuK0ojg': 0.20878860460860388})"
      ]
     },
     "execution_count": 55,
     "metadata": {},
     "output_type": "execute_result"
    }
   ],
   "source": [
    "results_vid_iou_good, results_vid_iou_bad"
   ]
  },
  {
   "cell_type": "code",
   "execution_count": 108,
   "id": "7db04af5-bfcb-4a39-a5d9-72035ff38851",
   "metadata": {},
   "outputs": [
    {
     "data": {
      "text/plain": [
       "{0: array([29.105045, 71.41049 ], dtype=float32),\n",
       " 1: array([ 59.09948, 101.40493], dtype=float32),\n",
       " 2: array([ 89.09893, 131.40439], dtype=float32),\n",
       " 3: array([119.10808, 161.41353], dtype=float32),\n",
       " 4: array([149.10504, 191.41049], dtype=float32),\n",
       " 5: array([184.10504, 226.41049], dtype=float32),\n",
       " 6: array([214.10504, 256.4105 ], dtype=float32),\n",
       " 7: array([249.08904, 291.3945 ], dtype=float32),\n",
       " 8: array([274.08902, 316.3945 ], dtype=float32),\n",
       " 9: array([319.08902, 361.3945 ], dtype=float32),\n",
       " 10: array([344.08902, 386.3945 ], dtype=float32),\n",
       " 11: array([369.08905, 411.39447], dtype=float32),\n",
       " 12: array([394.08905, 436.39447], dtype=float32),\n",
       " 13: array([414.08902, 456.3945 ], dtype=float32),\n",
       " 14: array([439.08902, 481.3945 ], dtype=float32),\n",
       " 15: array([439.08902, 481.3945 ], dtype=float32)}"
      ]
     },
     "execution_count": 108,
     "metadata": {},
     "output_type": "execute_result"
    }
   ],
   "source": [
    "# https://youtu.be/-AwyG1JcMp8\n",
    "raw_results[\"-AwyG1JcMp8\"]"
   ]
  },
  {
   "cell_type": "code",
   "execution_count": 101,
   "id": "f35af56c-660b-4392-9bb9-5d4a51a7b60d",
   "metadata": {},
   "outputs": [],
   "source": [
    "with open(\"/disk/scratch_fast/s2004019/youcook2/features/transcript_per_sec_all.json\", \"r\") as f:\n",
    "    data = json.load(f)"
   ]
  },
  {
   "cell_type": "code",
   "execution_count": 109,
   "id": "a0353d11-b61e-4bb2-a90a-9d39d8e8609b",
   "metadata": {},
   "outputs": [
    {
     "data": {
      "text/plain": [
       "{'set': 'validation',\n",
       " 'task': '309',\n",
       " 'text': ['',\n",
       "  '',\n",
       "  '',\n",
       "  '',\n",
       "  '',\n",
       "  '',\n",
       "  \"yes especially monster today we're going\",\n",
       "  \"yes especially monster today we're going\",\n",
       "  \"yes especially monster today we're going\",\n",
       "  'to do spicy sausage and huge eat',\n",
       "  'to do spicy sausage and huge eat',\n",
       "  'dumplings the meat quick simple',\n",
       "  'dumplings the meat quick simple',\n",
       "  \"delicious and if you don't want this to\",\n",
       "  \"delicious and if you don't want this to\",\n",
       "  'be me variety you can always have stupid',\n",
       "  'be me variety you can always have stupid',\n",
       "  \"couple tofu if you don't want this to be\",\n",
       "  \"couple tofu if you don't want this to be\",\n",
       "  \"couple tofu if you don't want this to be\",\n",
       "  'spicy you can just omit the red pepper',\n",
       "  \"flakes but you can steam this Friday's\",\n",
       "  \"flakes but you can steam this Friday's\",\n",
       "  \"flakes but you can steam this Friday's\",\n",
       "  'make this into soup and all those',\n",
       "  'make this into soup and all those',\n",
       "  'different varieties to be post on my',\n",
       "  'blog the sushi master calm first thing',\n",
       "  'blog the sushi master calm first thing',\n",
       "  'blog the sushi master calm first thing',\n",
       "  \"I'm going to gather up are my filling\",\n",
       "  'ingredients in my big bowl here I just',\n",
       "  'ingredients in my big bowl here I just',\n",
       "  'have couple cups of finely minced kimchi',\n",
       "  'have couple cups of finely minced kimchi',\n",
       "  'have couple cups of finely minced kimchi',\n",
       "  'and some uncase natural sausage so that',\n",
       "  'and some uncase natural sausage so that',\n",
       "  'and some uncase natural sausage so that',\n",
       "  'and some uncase natural sausage so that',\n",
       "  'without a few things that I add on top',\n",
       "  'without a few things that I add on top',\n",
       "  'directly on top of the sausage bison soy',\n",
       "  'directly on top of the sausage bison soy',\n",
       "  'sauce and my sesame oil',\n",
       "  'sauce and my sesame oil',\n",
       "  'sauce and my sesame oil',\n",
       "  'sauce and my sesame oil',\n",
       "  'sauce and my sesame oil',\n",
       "  'sauce and my sesame oil',\n",
       "  \"then I'm going to just for some burst of\",\n",
       "  \"then I'm going to just for some burst of\",\n",
       "  'fresh freshness some green onions some',\n",
       "  'fresh freshness some green onions some',\n",
       "  'fresh freshness some green onions some',\n",
       "  'garlic and some chai are some ginger',\n",
       "  'garlic and some chai are some ginger',\n",
       "  'garlic and some chai are some ginger',\n",
       "  'you could add chives as well full of red',\n",
       "  'you could add chives as well full of red',\n",
       "  'you could add chives as well full of red',\n",
       "  'you could add chives as well full of red',\n",
       "  'you could add chives as well full of red',\n",
       "  'you could add chives as well full of red',\n",
       "  'you could add chives as well full of red',\n",
       "  'pepper seeds let pepper flakes seeds at',\n",
       "  'pepper seeds let pepper flakes seeds at',\n",
       "  'pepper seeds let pepper flakes seeds at',\n",
       "  'home like how much depends on how spicy',\n",
       "  'home like how much depends on how spicy',\n",
       "  \"you want it I'm gonna run it through my\",\n",
       "  \"you want it I'm gonna run it through my\",\n",
       "  \"you want it I'm gonna run it through my\",\n",
       "  'palms just to release some of its oils',\n",
       "  'palms just to release some of its oils',\n",
       "  'and add it into my sausage on top of my',\n",
       "  'and add it into my sausage on top of my',\n",
       "  'and add it into my sausage on top of my',\n",
       "  'and add it into my sausage on top of my',\n",
       "  'and add it into my sausage on top of my',\n",
       "  'sausage',\n",
       "  'so basically making a paste of sorts and',\n",
       "  'so basically making a paste of sorts and',\n",
       "  'so basically making a paste of sorts and',\n",
       "  \"I just add one crack tonight and that'll\",\n",
       "  \"I just add one crack tonight and that'll\",\n",
       "  'help find the fuel mixture together and',\n",
       "  'help find the fuel mixture together and',\n",
       "  'help find the fuel mixture together and',\n",
       "  'before I use it or scoop it up into my',\n",
       "  'before I use it or scoop it up into my',\n",
       "  \"wonton skins I'm going to put this whole\",\n",
       "  \"wonton skins I'm going to put this whole\",\n",
       "  'mixture this whole building into the',\n",
       "  \"refrigerators move out whatever it's\",\n",
       "  \"refrigerators move out whatever it's\",\n",
       "  'just for everything to melt together or',\n",
       "  'just for everything to melt together or',\n",
       "  'just for everything to melt together or',\n",
       "  'to kind of firm up you can just gather',\n",
       "  'to kind of firm up you can just gather',\n",
       "  'the edges like this and then crimp',\n",
       "  'the edges like this and then crimp',\n",
       "  'the edges like this and then crimp',\n",
       "  'the edges like this and then crimp',\n",
       "  'the edges like this and then crimp',\n",
       "  'basically I guess make like a free-form',\n",
       "  'basically I guess make like a free-form',\n",
       "  'basically I guess make like a free-form',\n",
       "  'blocks of sorts all four edges you',\n",
       "  'blocks of sorts all four edges you',\n",
       "  'blocks of sorts all four edges you',\n",
       "  'gather them together and just kind of',\n",
       "  'gather them together and just kind of',\n",
       "  'push the edges together just like this',\n",
       "  'push the edges together just like this',\n",
       "  'push the edges together just like this',\n",
       "  'to make the little three-dimensional',\n",
       "  'to make the little three-dimensional',\n",
       "  'to make the little three-dimensional',\n",
       "  'package of sorts so do whatever way',\n",
       "  'package of sorts so do whatever way',\n",
       "  \"works for you there's like a thousand\",\n",
       "  \"works for you there's like a thousand\",\n",
       "  'ways to do this but just do whatever is',\n",
       "  'ways to do this but just do whatever is',\n",
       "  'is easiest for you or what shape you',\n",
       "  'is easiest for you or what shape you',\n",
       "  'is easiest for you or what shape you',\n",
       "  'desire just have fun with it I have in',\n",
       "  'desire just have fun with it I have in',\n",
       "  'desire just have fun with it I have in',\n",
       "  'my little paw right here couple inches',\n",
       "  'my little paw right here couple inches',\n",
       "  'my little paw right here couple inches',\n",
       "  'of water and when you take the top off',\n",
       "  'of water and when you take the top off',\n",
       "  \"you'll see that I put in elevated I\",\n",
       "  \"you'll see that I put in elevated I\",\n",
       "  \"you'll see that I put in elevated I\",\n",
       "  \"don't know what did you call this like a\",\n",
       "  \"don't know what did you call this like a\",\n",
       "  'mesh a bright Conger have no idea this',\n",
       "  'mesh a bright Conger have no idea this',\n",
       "  'mesh a bright Conger have no idea this',\n",
       "  'mesh a bright Conger have no idea this',\n",
       "  'is cause but in order for the dumpling',\n",
       "  'is cause but in order for the dumpling',\n",
       "  \"not to stick in the water's debris below\",\n",
       "  'but not touching this elevated',\n",
       "  'but not touching this elevated',\n",
       "  'but not touching this elevated',\n",
       "  'contraption I have some wax paper or',\n",
       "  'contraption I have some wax paper or',\n",
       "  'contraption I have some wax paper or',\n",
       "  'parchment that I would have looked down',\n",
       "  'parchment that I would have looked down',\n",
       "  \"and I'm going to start laying\",\n",
       "  \"and I'm going to start laying\",\n",
       "  \"and I'm going to start laying\",\n",
       "  \"my dumpling challenge and they're gonna\",\n",
       "  \"my dumpling challenge and they're gonna\",\n",
       "  'take about 15 to 20 minutes or so just',\n",
       "  'take about 15 to 20 minutes or so just',\n",
       "  'take about 15 to 20 minutes or so just',\n",
       "  'keep your eye on them and if you want',\n",
       "  'keep your eye on them and if you want',\n",
       "  'something you just cut into meat the',\n",
       "  'something you just cut into meat the',\n",
       "  'something you just cut into meat the',\n",
       "  'something you just cut into meat the',\n",
       "  'something you just cut into meat the',\n",
       "  'something you just cut into meat the',\n",
       "  'something you just cut into meat the',\n",
       "  'something you just cut into meat the',\n",
       "  'something you just cut into meat the',\n",
       "  'something you just cut into meat the',\n",
       "  'something you just cut into meat the',\n",
       "  'something you just cut into meat the',\n",
       "  'something you just cut into meat the',\n",
       "  'something you just cut into meat the',\n",
       "  'dipping sauce',\n",
       "  'I usually use this one or another one',\n",
       "  'I usually use this one or another one',\n",
       "  \"and I'll post both on my blog I have\",\n",
       "  \"and I'll post both on my blog I have\",\n",
       "  'some soy sauce some dark smoky soy sauce',\n",
       "  'some soy sauce some dark smoky soy sauce',\n",
       "  'some soy sauce some dark smoky soy sauce',\n",
       "  \"to that I'm gonna add in the juice of\",\n",
       "  'one fresh orange just please do sit',\n",
       "  'one fresh orange just please do sit',\n",
       "  'one fresh orange just please do sit',\n",
       "  'one fresh orange just please do sit',\n",
       "  'one fresh orange just please do sit',\n",
       "  'there just bright and those bottles the',\n",
       "  'there just bright and those bottles the',\n",
       "  'there just bright and those bottles the',\n",
       "  'there just bright and those bottles the',\n",
       "  'there just bright and those bottles the',\n",
       "  '- soy sauce can have a good dark like',\n",
       "  '- soy sauce can have a good dark like',\n",
       "  'how to muddle change to it so just to',\n",
       "  'how to muddle change to it so just to',\n",
       "  'brighten it up a half-cent freshly',\n",
       "  'brighten it up a half-cent freshly',\n",
       "  'brighten it up a half-cent freshly',\n",
       "  \"squeezed orange juice so that I'm gonna\",\n",
       "  \"squeezed orange juice so that I'm gonna\",\n",
       "  \"squeezed orange juice so that I'm gonna\",\n",
       "  'add in some agave or honey whatever you',\n",
       "  'add in some agave or honey whatever you',\n",
       "  'add in some agave or honey whatever you',\n",
       "  \"have or whatever you like or whatever's\",\n",
       "  \"have or whatever you like or whatever's\",\n",
       "  \"on sale just there's a lot in there then\",\n",
       "  \"on sale just there's a lot in there then\",\n",
       "  \"on sale just there's a lot in there then\",\n",
       "  \"on sale just there's a lot in there then\",\n",
       "  'I have some sesame seeds and you also',\n",
       "  'I have some sesame seeds and you also',\n",
       "  'I have some sesame seeds and you also',\n",
       "  'I have some sesame seeds and you also',\n",
       "  'use some green onions but I put all - I',\n",
       "  'use some green onions but I put all - I',\n",
       "  'definitely',\n",
       "  \"you add that in there as well I'm\",\n",
       "  \"you add that in there as well I'm\",\n",
       "  \"you add that in there as well I'm\",\n",
       "  'working on my last batch of dumplings',\n",
       "  \"and this is what it looks like they'll\",\n",
       "  \"and this is what it looks like they'll\",\n",
       "  'be kind of iridescent and kind of sheer',\n",
       "  'be kind of iridescent and kind of sheer',\n",
       "  'be kind of iridescent and kind of sheer',\n",
       "  \"when they're ready and it takes about 15\",\n",
       "  \"when they're ready and it takes about 15\",\n",
       "  \"when they're ready and it takes about 15\",\n",
       "  'to 20 minutes depending on how well',\n",
       "  'simmering your water is below and I have',\n",
       "  'simmering your water is below and I have',\n",
       "  'been sitting on just a silicon mat and',\n",
       "  'been sitting on just a silicon mat and',\n",
       "  'been sitting on just a silicon mat and',\n",
       "  'virtually nothing sticks to this usually',\n",
       "  'virtually nothing sticks to this usually',\n",
       "  'virtually nothing sticks to this usually',\n",
       "  'virtually nothing sticks to this usually',\n",
       "  \"do myself break I'm gonna take a\",\n",
       "  \"do myself break I'm gonna take a\",\n",
       "  \"do myself break I'm gonna take a\",\n",
       "  \"dumpling and it's been steamed\",\n",
       "  \"dumpling and it's been steamed\",\n",
       "  'beautifully I feel like the texture of',\n",
       "  'beautifully I feel like the texture of',\n",
       "  'beautifully I feel like the texture of',\n",
       "  'it in the center its heart a little bit',\n",
       "  \"it's got this birds\",\n",
       "  \"it's got this birds\",\n",
       "  \"it's got this birds\",\n",
       "  \"it's got this birds\",\n",
       "  \"it's got this birds\",\n",
       "  \"it's got this birds\",\n",
       "  \"it's got this birds\",\n",
       "  \"it's got this birds\",\n",
       "  \"it's got this birds\",\n",
       "  \"it's got this birds\",\n",
       "  \"it's got this birds\",\n",
       "  \"it's got this birds\",\n",
       "  \"it's got this birds\",\n",
       "  \"it's got this birds\",\n",
       "  \"it's got this birds\",\n",
       "  \"it's got this birds\",\n",
       "  \"it's got this birds\",\n",
       "  \"it's got this birds\",\n",
       "  \"it's got this birds\",\n",
       "  \"it's got this birds\",\n",
       "  'another brainwave geez chicken cheese',\n",
       "  'another brainwave geez chicken cheese',\n",
       "  'another brainwave geez chicken cheese',\n",
       "  'endlessly forgiving and versatile',\n",
       "  'endlessly forgiving and versatile',\n",
       "  'endlessly forgiving and versatile',\n",
       "  'endlessly forgiving and versatile',\n",
       "  'remember that succulent spicy sausage',\n",
       "  'remember that succulent spicy sausage',\n",
       "  'remember that succulent spicy sausage',\n",
       "  'excuse me',\n",
       "  \"it is such a truck it's just like a\",\n",
       "  \"it is such a truck it's just like a\",\n",
       "  \"it is such a truck it's just like a\",\n",
       "  'popular media spiciness so delicious I',\n",
       "  'popular media spiciness so delicious I',\n",
       "  'popular media spiciness so delicious I',\n",
       "  'hope you guys do this Ajay this was the',\n",
       "  'hope you guys do this Ajay this was the',\n",
       "  'hope you guys do this Ajay this was the',\n",
       "  'solution monster now see I see',\n",
       "  'solution monster now see I see',\n",
       "  'solution monster now see I see',\n",
       "  'solution monster now see I see',\n",
       "  'solution monster now see I see',\n",
       "  'solution monster now see I see',\n",
       "  'solution monster now see I see',\n",
       "  'solution monster now see I see',\n",
       "  'solution monster now see I see',\n",
       "  'solution monster now see I see',\n",
       "  'solution monster now see I see']}"
      ]
     },
     "execution_count": 109,
     "metadata": {},
     "output_type": "execute_result"
    }
   ],
   "source": [
    "data[\"-AwyG1JcMp8\"]"
   ]
  },
  {
   "cell_type": "code",
   "execution_count": 110,
   "id": "6183c1e5-6eef-4903-ab17-609e313b1d95",
   "metadata": {},
   "outputs": [
    {
     "data": {
      "text/plain": [
       "{'0': {'iou': 0.5588634,\n",
       "  'gt': [70.39085, 146.08995],\n",
       "  'pred': [89.09893, 131.40439],\n",
       "  'best_index': 2},\n",
       " '1': {'iou': 0.5964487,\n",
       "  'gt': [160.28352, 185.51656],\n",
       "  'pred': [149.10504, 191.41049],\n",
       "  'best_index': 4},\n",
       " '2': {'iou': 0.7828389,\n",
       "  'gt': [253.33034, 286.4487],\n",
       "  'pred': [249.08904, 291.3945],\n",
       "  'best_index': 7},\n",
       " '3': {'iou': 0.72501254,\n",
       "  'gt': [303.79642, 362.1478],\n",
       "  'pred': [319.08902, 361.3945],\n",
       "  'best_index': 9},\n",
       " '4': {'iou': 0.1863909,\n",
       "  'gt': [414.19092, 422.07626],\n",
       "  'pred': [394.08905, 436.39447],\n",
       "  'best_index': 12}}"
      ]
     },
     "execution_count": 110,
     "metadata": {},
     "output_type": "execute_result"
    }
   ],
   "source": [
    "results[\"-AwyG1JcMp8\"]"
   ]
  },
  {
   "cell_type": "code",
   "execution_count": null,
   "id": "805de56c-4f82-40ea-8ce5-68b5750cad1c",
   "metadata": {},
   "outputs": [],
   "source": []
  }
 ],
 "metadata": {
  "kernelspec": {
   "display_name": "Python 3",
   "language": "python",
   "name": "python3"
  },
  "language_info": {
   "codemirror_mode": {
    "name": "ipython",
    "version": 3
   },
   "file_extension": ".py",
   "mimetype": "text/x-python",
   "name": "python",
   "nbconvert_exporter": "python",
   "pygments_lexer": "ipython3",
   "version": "3.8.5"
  }
 },
 "nbformat": 4,
 "nbformat_minor": 5
}
