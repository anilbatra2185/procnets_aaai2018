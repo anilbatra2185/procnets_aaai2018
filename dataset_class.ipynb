{
 "cells": [
  {
   "cell_type": "code",
   "execution_count": 1,
   "id": "5ca8a828-0b2b-499e-b028-f1cda93818c0",
   "metadata": {},
   "outputs": [],
   "source": [
    "import json\n",
    "import os\n",
    "\n",
    "import numpy as np\n",
    "import pandas as pd\n",
    "import torch\n",
    "from torch.utils.data import Dataset"
   ]
  },
  {
   "cell_type": "code",
   "execution_count": 2,
   "id": "017b02c5-37d4-401c-9d34-3e974329b13a",
   "metadata": {},
   "outputs": [],
   "source": [
    "from pathlib import Path\n",
    "import glob\n",
    "from tqdm import tqdm"
   ]
  },
  {
   "cell_type": "code",
   "execution_count": 6,
   "id": "a105826a-1956-458c-bb13-49c73250d271",
   "metadata": {},
   "outputs": [
    {
     "name": "stderr",
     "output_type": "stream",
     "text": [
      "100%|██████████| 8137/8137 [00:00<00:00, 47866.63it/s]\n"
     ]
    }
   ],
   "source": [
    "yc2_frame_records = []\n",
    "for file in tqdm(glob.glob(\"/disk/scratch_fast/s2004019/youcook2/raw_videos/training_frames/*/*/*\")):\n",
    "    file_path = Path(file)\n",
    "    aug_number = file.split(\"/\")[-1]\n",
    "    vid = str(file_path.parents[0]).split(\"/\")[-1]\n",
    "    task = str(file_path.parents[1]).split(\"/\")[-1]\n",
    "    subset = str(file_path.parents[2]).split(\"/\")[-1]\n",
    "    record = {\n",
    "        \"aug\": int(aug_number),\n",
    "        \"vid\": vid,\n",
    "        \"task\": task,\n",
    "        \"set\": subset.split(\"_\")[0]\n",
    "    }\n",
    "    yc2_frame_records.append(record)"
   ]
  },
  {
   "cell_type": "code",
   "execution_count": 7,
   "id": "3d60e45e-14c4-41d7-9497-30059651ef73",
   "metadata": {},
   "outputs": [
    {
     "data": {
      "text/plain": [
       "8137"
      ]
     },
     "execution_count": 7,
     "metadata": {},
     "output_type": "execute_result"
    }
   ],
   "source": [
    "len(yc2_frame_records)"
   ]
  },
  {
   "cell_type": "code",
   "execution_count": 8,
   "id": "4d3af689-083d-462c-8ada-e9bb92d47bfa",
   "metadata": {},
   "outputs": [
    {
     "data": {
      "text/plain": [
       "[{'aug': 1, 'vid': 'Bts6MvK8f9k', 'task': '425', 'set': 'training'},\n",
       " {'aug': 9, 'vid': 'Bts6MvK8f9k', 'task': '425', 'set': 'training'}]"
      ]
     },
     "execution_count": 8,
     "metadata": {},
     "output_type": "execute_result"
    }
   ],
   "source": [
    "yc2_frame_records[:2]"
   ]
  },
  {
   "cell_type": "code",
   "execution_count": 10,
   "id": "3075b6f7-f4cc-4ff6-939d-ebb281db87e9",
   "metadata": {},
   "outputs": [],
   "source": [
    "with open(\"/disk/scratch_fast/s2004019/youcook2/raw_videos/training_frames.json\", \"w\") as f:\n",
    "    json.dump(yc2_frame_records, f, indent=4)"
   ]
  },
  {
   "cell_type": "code",
   "execution_count": 11,
   "id": "e3724102-a55e-4569-b856-ce0eb2def441",
   "metadata": {},
   "outputs": [
    {
     "name": "stderr",
     "output_type": "stream",
     "text": [
      "100%|██████████| 363/363 [00:00<00:00, 29813.82it/s]\n"
     ]
    },
    {
     "data": {
      "text/plain": [
       "(363,\n",
       " [{'aug': 1, 'vid': 'W6DgS0s0qcI', 'task': '425', 'set': 'validation'},\n",
       "  {'aug': 1, 'vid': 'OUhxy5BANfk', 'task': '425', 'set': 'validation'}])"
      ]
     },
     "execution_count": 11,
     "metadata": {},
     "output_type": "execute_result"
    }
   ],
   "source": [
    "yc2_frame_records_val = []\n",
    "for file in tqdm(glob.glob(\"/disk/scratch_fast/s2004019/youcook2/raw_videos/validation_frames/*/*/*\")):\n",
    "    file_path = Path(file)\n",
    "    aug_number = file.split(\"/\")[-1]\n",
    "    vid = str(file_path.parents[0]).split(\"/\")[-1]\n",
    "    task = str(file_path.parents[1]).split(\"/\")[-1]\n",
    "    subset = str(file_path.parents[2]).split(\"/\")[-1]\n",
    "    record = {\n",
    "        \"aug\": int(aug_number),\n",
    "        \"vid\": vid,\n",
    "        \"task\": task,\n",
    "        \"set\": subset.split(\"_\")[0]\n",
    "    }\n",
    "    yc2_frame_records_val.append(record)\n",
    "    \n",
    "len(yc2_frame_records_val), yc2_frame_records_val[:2] "
   ]
  },
  {
   "cell_type": "code",
   "execution_count": 12,
   "id": "f266c151-5d11-45a9-a82a-90a493c85c03",
   "metadata": {},
   "outputs": [],
   "source": [
    "with open(\"/disk/scratch_fast/s2004019/youcook2/raw_videos/validation_frames.json\", \"w\") as f:\n",
    "    json.dump(yc2_frame_records_val, f, indent=4)"
   ]
  },
  {
   "cell_type": "code",
   "execution_count": 14,
   "id": "d14d2c1e-b1c4-4b9c-8d1f-d442998ff593",
   "metadata": {},
   "outputs": [
    {
     "data": {
      "text/plain": [
       "(500, 512)"
      ]
     },
     "execution_count": 14,
     "metadata": {},
     "output_type": "execute_result"
    }
   ],
   "source": [
    "ext_feat = np.load(\"/disk/scratch_fast/s2004019/youcook2/raw_videos/training_frames/219/lYsEShMFTaw/0009/features_resnet.npy\")\n",
    "ext_feat.shape"
   ]
  },
  {
   "cell_type": "code",
   "execution_count": null,
   "id": "04b32ab2-4804-4dca-aa97-8463eaa3054f",
   "metadata": {},
   "outputs": [],
   "source": []
  }
 ],
 "metadata": {
  "kernelspec": {
   "display_name": "Python 3",
   "language": "python",
   "name": "python3"
  },
  "language_info": {
   "codemirror_mode": {
    "name": "ipython",
    "version": 3
   },
   "file_extension": ".py",
   "mimetype": "text/x-python",
   "name": "python",
   "nbconvert_exporter": "python",
   "pygments_lexer": "ipython3",
   "version": "3.8.5"
  }
 },
 "nbformat": 4,
 "nbformat_minor": 5
}
