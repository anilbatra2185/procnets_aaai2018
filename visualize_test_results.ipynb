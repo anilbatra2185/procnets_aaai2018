{
 "cells": [
  {
   "cell_type": "code",
   "execution_count": 1,
   "id": "281d73c7-2f84-4495-878f-2628c841df86",
   "metadata": {},
   "outputs": [],
   "source": [
    "import os\n",
    "import random\n",
    "\n",
    "import numpy as np\n",
    "import torch as th\n",
    "import torch.nn as nn\n",
    "from torch.utils.data import DataLoader\n",
    "from tqdm import tqdm\n",
    "\n",
    "from dataset import YC2ProcNetDataset\n",
    "from models.model import ProcNet"
   ]
  },
  {
   "cell_type": "code",
   "execution_count": 2,
   "id": "8f5ebb38-65e0-44fb-83a4-d8aeed78b2fa",
   "metadata": {},
   "outputs": [],
   "source": [
    "feature_root = \"/disk/scratch_fast/s2004019/youcook2/raw_videos\"\n",
    "yc2_dur_file = \"/disk/scratch_fast/s2004019/youcook2/yc2/yc2_duration_frame.csv\"\n",
    "yc2_annotation_file = \"/disk/scratch_fast/s2004019/youcook2/yc2/yc2_new_annotations_trainval_test.json\"\n",
    "checkpoint_dir = \"/disk/scratch_fast/s2004019/youcook2/checkpoints/procnet/run7_iou\"\n",
    "post_fix = \"_iou\"\n",
    "# post_fix = \"_iou_run3_aug5_exp_scheduler\"\n",
    "# post_fix = \"_epoch8_iou_run3_aug5_exp_scheduler\"\n",
    "frames_per_video = 500"
   ]
  },
  {
   "cell_type": "code",
   "execution_count": 3,
   "id": "d744ed75-e8cb-4063-ab65-6a696bf15a24",
   "metadata": {},
   "outputs": [],
   "source": [
    "checkpoint_path = os.path.join(checkpoint_dir, \"model_best{}.pth.tar\".format(post_fix))"
   ]
  },
  {
   "cell_type": "code",
   "execution_count": 4,
   "id": "db5f2b29-5f27-42ff-a01c-bc7c111c3ef3",
   "metadata": {},
   "outputs": [],
   "source": [
    "test_dataset = YC2ProcNetDataset(feature_root=feature_root,\n",
    "                                 data_file=\"validation_frames.json\",\n",
    "                                 dur_file=yc2_dur_file,\n",
    "                                 annotation_file=yc2_annotation_file,\n",
    "                                 split=\"testing\", frames_per_video=frames_per_video, max_augs=1)\n",
    "test_dataloader = DataLoader(\n",
    "    test_dataset, batch_size=1, shuffle=False, num_workers=16)"
   ]
  },
  {
   "cell_type": "code",
   "execution_count": 5,
   "id": "64dde112-c644-4b46-af9a-61912bcfd841",
   "metadata": {},
   "outputs": [
    {
     "data": {
      "text/plain": [
       "ProcNet(\n",
       "  (core1): LSTM(512, 512, batch_first=True, bidirectional=True)\n",
       "  (mlp): Sequential(\n",
       "    (0): Linear(in_features=1536, out_features=512, bias=True)\n",
       "    (1): ReLU()\n",
       "  )\n",
       "  (temporal_segment): TemporalSegmentation(\n",
       "    (ts): ModuleList(\n",
       "      (0): Conv1d(512, 3, kernel_size=(3,), stride=(1,))\n",
       "      (1): Conv1d(512, 3, kernel_size=(11,), stride=(1,))\n",
       "      (2): Conv1d(512, 3, kernel_size=(19,), stride=(1,))\n",
       "      (3): Conv1d(512, 3, kernel_size=(27,), stride=(1,))\n",
       "      (4): Conv1d(512, 3, kernel_size=(35,), stride=(1,))\n",
       "      (5): Conv1d(512, 3, kernel_size=(43,), stride=(1,))\n",
       "      (6): Conv1d(512, 3, kernel_size=(51,), stride=(1,))\n",
       "      (7): Conv1d(512, 3, kernel_size=(59,), stride=(1,))\n",
       "      (8): Conv1d(512, 3, kernel_size=(67,), stride=(1,))\n",
       "      (9): Conv1d(512, 3, kernel_size=(75,), stride=(1,))\n",
       "      (10): Conv1d(512, 3, kernel_size=(83,), stride=(1,))\n",
       "      (11): Conv1d(512, 3, kernel_size=(91,), stride=(1,))\n",
       "      (12): Conv1d(512, 3, kernel_size=(99,), stride=(1,))\n",
       "      (13): Conv1d(512, 3, kernel_size=(107,), stride=(1,))\n",
       "      (14): Conv1d(512, 3, kernel_size=(115,), stride=(1,))\n",
       "      (15): Conv1d(512, 3, kernel_size=(123,), stride=(1,))\n",
       "    )\n",
       "    (proposal_score_fn): Sigmoid()\n",
       "    (lenth_offset_fn): Tanh()\n",
       "    (center_offset_fn): Tanh()\n",
       "  )\n",
       "  (score_maxpool): MaxPool2d(kernel_size=(8, 5), stride=(8, 5), padding=0, dilation=1, ceil_mode=False)\n",
       "  (loc_embedding): Embedding(201, 200)\n",
       "  (core2): LSTMCell(600, 200)\n",
       "  (dropout): Dropout(p=0.5, inplace=False)\n",
       "  (seq_fc): Linear(in_features=200, out_features=201, bias=True)\n",
       "  (vis_feat_linear): Linear(in_features=512, out_features=200, bias=True)\n",
       ")"
      ]
     },
     "execution_count": 5,
     "metadata": {},
     "output_type": "execute_result"
    }
   ],
   "source": [
    "model = ProcNet(input_encoding_size=512, rnn_size=512, clip_number=16,\n",
    "                    kernelInfo=[3, 123, 8], frames_per_video=frames_per_video,\n",
    "                    mp_scale=(8, 5), video_feat=512)\n",
    "\n",
    "model.eval()\n",
    "model.cuda()"
   ]
  },
  {
   "cell_type": "code",
   "execution_count": 6,
   "id": "5c5b3d5c-94a5-4ef1-ba89-2f283434aa7c",
   "metadata": {},
   "outputs": [
    {
     "name": "stdout",
     "output_type": "stream",
     "text": [
      "=> loaded checkpoint '/disk/scratch_fast/s2004019/youcook2/checkpoints/procnet/run7_iou/model_best_iou.pth.tar' (epoch 18) with best mIoU : 0.3983739769977072\n"
     ]
    }
   ],
   "source": [
    "def getParllelNetworkStateDict(state_dict):\n",
    "    from collections import OrderedDict\n",
    "\n",
    "    new_state_dict = OrderedDict()\n",
    "    for k, v in state_dict.items():\n",
    "        name = k[7:]  # remove `module.`\n",
    "        new_state_dict[name] = v\n",
    "    return new_state_dict\n",
    "\n",
    "checkpoint = th.load(checkpoint_path)\n",
    "model_state_dict = getParllelNetworkStateDict(checkpoint[\"state_dict\"])\n",
    "model.load_state_dict(model_state_dict)\n",
    "best_iou = checkpoint[\"miou\"]\n",
    "print(\"=> loaded checkpoint '{}' (epoch {}) with best mIoU : {}\".format(checkpoint_path, checkpoint[\"epoch\"], best_iou))"
   ]
  },
  {
   "cell_type": "code",
   "execution_count": 11,
   "id": "da0d36d5-099a-4530-b957-4f3b18515d5a",
   "metadata": {},
   "outputs": [],
   "source": [
    "def compute_iou(c2, c1):\n",
    "    intersection = max(0, min(c1[1], c2[1])-max(c1[0], c2[0]))\n",
    "    if intersection == 0:\n",
    "        return 0\n",
    "    else:\n",
    "        union = max(c1[1], c2[1]) - min(c1[0], c2[0])\n",
    "        return intersection/union\n",
    "    \n",
    "    \n",
    "def compute_jacc(c2, c1):\n",
    "    intersection = max(0, min(c1[1], c2[1])-max(c1[0], c2[0]))\n",
    "    if intersection == 0:\n",
    "        return 0\n",
    "    else:\n",
    "        union = c2[1]-c2[0]\n",
    "        return intersection/union\n",
    "\n",
    "\n",
    "def validate_epoch(eval_dataloader, model):\n",
    "    model.eval()\n",
    "    running_loss = 0.0\n",
    "    valid_bar = tqdm(enumerate(eval_dataloader), total=len(eval_dataloader))\n",
    "    avg_miou = []\n",
    "    avg_jacc = []\n",
    "    results = {}\n",
    "    raw_results = {}\n",
    "    with th.no_grad():\n",
    "        for i_batch, data in valid_bar:\n",
    "            feat = data[\"feature\"].float().cuda()\n",
    "            gt_segments = data[\"segments\"].float()\n",
    "            task = data[\"task\"]\n",
    "            vid = data[\"vid\"][0]\n",
    "            \n",
    "            _, maxpool_boundaries, pred_seg_index, _ = model(feat, None)\n",
    "            l = maxpool_boundaries.size(-1)\n",
    "            iou_clip = 0.\n",
    "            jacc_clip = 0.\n",
    "            n_segments = gt_segments.size(1)\n",
    "            per_video_result = {}\n",
    "\n",
    "            per_video_raw_preds = {}\n",
    "            keys_to_remove = []\n",
    "            for j in range(len(pred_seg_index)):\n",
    "                column = pred_seg_index[j] % l\n",
    "                row = pred_seg_index[j] // l\n",
    "                clip_boundary = maxpool_boundaries[0, :, row, column]\n",
    "                if j == 0:\n",
    "                    per_video_raw_preds[j] = clip_boundary.cpu().numpy()\n",
    "                    continue\n",
    "                per_video_raw_preds[j] = clip_boundary.cpu().numpy()\n",
    "                if np.sum(clip_boundary.cpu().numpy() - per_video_raw_preds[j-1]) == 0:\n",
    "                    keys_to_remove.append(j)\n",
    "            \n",
    "            per_video_raw_preds = {k:v for k,v in per_video_raw_preds.items() if k not in keys_to_remove}\n",
    "            raw_results[vid] = per_video_raw_preds\n",
    "            hits = []\n",
    "            for i in range(n_segments):\n",
    "                best_iou = 0.\n",
    "                best_jacc = 0.\n",
    "                best_clip = []\n",
    "                best_index = -1\n",
    "                for j in range(len(pred_seg_index)):\n",
    "                    if j in hits:\n",
    "                        continue\n",
    "#                     if pred_seg_index[j] == model.clip_prop_encoding:\n",
    "#                         print(\"breaking\")\n",
    "#                         break\n",
    "                    column = pred_seg_index[j] % l\n",
    "                    row = pred_seg_index[j] // l\n",
    "                    clip_boundary = maxpool_boundaries[0, :, row, column]\n",
    "                    current_iou = compute_iou(\n",
    "                        clip_boundary.cpu().numpy(), gt_segments[0][i].cpu().numpy())\n",
    "                    current_jacc = compute_jacc(\n",
    "                        clip_boundary.cpu().numpy(), gt_segments[0][i].cpu().numpy())\n",
    "                    if current_iou > best_iou:\n",
    "                        best_iou = current_iou\n",
    "                        best_clip = clip_boundary.cpu().numpy()\n",
    "                        best_index = j\n",
    "                    if current_jacc > best_jacc:\n",
    "                        best_jacc = current_jacc\n",
    "                hits.append(best_index)\n",
    "                per_video_result[str(i)] = {\"iou\": best_iou, \"gt\":list(gt_segments[0][i].cpu().numpy()), \"pred\":list(best_clip), \"best_index\":best_index}\n",
    "                iou_clip += best_iou\n",
    "                jacc_clip += best_jacc\n",
    "            results[vid] = per_video_result   \n",
    "            avg_miou.append(iou_clip/n_segments)\n",
    "            avg_jacc.append(jacc_clip/n_segments)\n",
    "    return avg_miou, avg_jacc, results, raw_results"
   ]
  },
  {
   "cell_type": "code",
   "execution_count": 12,
   "id": "5745a4b2-40a2-4130-9ed8-6321c4bda729",
   "metadata": {},
   "outputs": [
    {
     "name": "stderr",
     "output_type": "stream",
     "text": [
      "100%|██████████| 180/180 [00:30<00:00,  5.97it/s]"
     ]
    },
    {
     "name": "stdout",
     "output_type": "stream",
     "text": [
      "Testing mIoU is 0.3462829431923256 and mJacc is 0.47650047140824014\n"
     ]
    },
    {
     "name": "stderr",
     "output_type": "stream",
     "text": [
      "\n"
     ]
    }
   ],
   "source": [
    "avg_miou, avg_jacc, results, raw_results = validate_epoch(test_dataloader, model)\n",
    "print(f\"Testing mIoU is {np.nanmean(avg_miou)} and mJacc is {np.nanmean(avg_jacc)}\")"
   ]
  },
  {
   "cell_type": "code",
   "execution_count": 14,
   "id": "de223d43-f934-4ecb-a5f3-f2a7ab7e7ab9",
   "metadata": {},
   "outputs": [],
   "source": [
    "# Validation mIoU is 0.36315514330913995 and mJacc is 0.5091106183977766 -- One Proposal is used only once\n",
    "# Validation mIoU is 0.398204407727742 and mJacc is 0.5452657957634546 -- One Proposal is allowed to be reused\n",
    "\n",
    "# Testing mIoU is 0.3462829431923256 and mJacc is 0.47650047140824014 -- One Proposal is used only once\n",
    "# Testing mIoU is 0.38121907241187913 and mJacc is 0.5120001695887446 -- One Proposal is allowed to be reused"
   ]
  },
  {
   "cell_type": "code",
   "execution_count": 13,
   "id": "2d7330c5-1341-4a0e-8204-f8cba059b22a",
   "metadata": {},
   "outputs": [
    {
     "data": {
      "text/plain": [
       "(180, 199)"
      ]
     },
     "execution_count": 13,
     "metadata": {},
     "output_type": "execute_result"
    }
   ],
   "source": [
    "len(results), model.clip_prop_encoding-1"
   ]
  },
  {
   "cell_type": "code",
   "execution_count": 17,
   "id": "8abfc2a7-abb6-4c59-a004-b84e4ea90b06",
   "metadata": {},
   "outputs": [
    {
     "data": {
      "text/plain": [
       "({'0': {'iou': 0.0,\n",
       "   'gt': [32.902515, 38.702972],\n",
       "   'pred': [],\n",
       "   'best_index': -1},\n",
       "  '1': {'iou': 0.337534,\n",
       "   'gt': [43.53669, 144.07796],\n",
       "   'pred': [103.776184, 137.71228],\n",
       "   'best_index': 1},\n",
       "  '2': {'iou': 0.3752818,\n",
       "   'gt': [145.0447, 197.24881],\n",
       "   'pred': [134.71849, 168.51118],\n",
       "   'best_index': 2},\n",
       "  '3': {'iou': 0.31203666,\n",
       "   'gt': [201.11578, 223.35088],\n",
       "   'pred': [178.84769, 215.00241],\n",
       "   'best_index': 3},\n",
       "  '4': {'iou': 0.48605427,\n",
       "   'gt': [224.31761, 259.12036],\n",
       "   'pred': [212.6751, 246.89253],\n",
       "   'best_index': 4},\n",
       "  '5': {'iou': 0.56015575,\n",
       "   'gt': [260.0871, 282.32217],\n",
       "   'pred': [261.6448, 297.0007],\n",
       "   'best_index': 5},\n",
       "  '6': {'iou': 0.0, 'gt': [283.28894, 293.9231], 'pred': [], 'best_index': -1},\n",
       "  '7': {'iou': 0.6313663,\n",
       "   'gt': [294.88983, 320.02518],\n",
       "   'pred': [296.63025, 331.94427],\n",
       "   'best_index': 6},\n",
       "  '8': {'iou': 0.18529533,\n",
       "   'gt': [345.1605, 351.92767],\n",
       "   'pred': [331.04663, 367.5677],\n",
       "   'best_index': 7},\n",
       "  '9': {'iou': 0.854404,\n",
       "   'gt': [408.9655, 441.83478],\n",
       "   'pred': [410.93298, 445.13318],\n",
       "   'best_index': 9},\n",
       "  '10': {'iou': 0.0,\n",
       "   'gt': [470.83707, 475.67078],\n",
       "   'pred': [],\n",
       "   'best_index': -1}},\n",
       " {0: array([66.35492, 97.11209], dtype=float32),\n",
       "  1: array([103.776184, 137.71228 ], dtype=float32),\n",
       "  2: array([134.71849, 168.51118], dtype=float32),\n",
       "  3: array([178.84769, 215.00241], dtype=float32),\n",
       "  4: array([212.6751 , 246.89253], dtype=float32),\n",
       "  5: array([261.6448, 297.0007], dtype=float32),\n",
       "  6: array([296.63025, 331.94427], dtype=float32),\n",
       "  7: array([331.04663, 367.5677 ], dtype=float32),\n",
       "  8: array([359.79788, 395.81796], dtype=float32),\n",
       "  9: array([410.93298, 445.13318], dtype=float32)})"
      ]
     },
     "execution_count": 17,
     "metadata": {},
     "output_type": "execute_result"
    }
   ],
   "source": [
    "ind_ = 165\n",
    "# list(results.keys())[ind_], \n",
    "results[list(results.keys())[ind_]],  raw_results[list(results.keys())[ind_]]"
   ]
  },
  {
   "cell_type": "code",
   "execution_count": 19,
   "id": "da14e041-4932-413e-a8a7-8d69dcc747b9",
   "metadata": {},
   "outputs": [
    {
     "data": {
      "text/plain": [
       "('yxjnWx6TaQ8',\n",
       " {'0': {'iou': 0.27841088,\n",
       "   'gt': [92.93016, 116.91194],\n",
       "   'pred': [53.93296, 140.07104],\n",
       "   'best_index': 1},\n",
       "  '1': {'iou': 0.31207353,\n",
       "   'gt': [132.8998, 212.83907],\n",
       "   'pred': [135.52855, 160.47548],\n",
       "   'best_index': 3},\n",
       "  '2': {'iou': 0.0030800733,\n",
       "   'gt': [216.83603, 264.7996],\n",
       "   'pred': [196.95905, 217.04498],\n",
       "   'best_index': 4},\n",
       "  '3': {'iou': 0.0,\n",
       "   'gt': [268.79657, 292.77835],\n",
       "   'pred': [],\n",
       "   'best_index': -1},\n",
       "  '4': {'iou': 0.0,\n",
       "   'gt': [312.76315, 348.73584],\n",
       "   'pred': [],\n",
       "   'best_index': -1},\n",
       "  '5': {'iou': 0.030165005,\n",
       "   'gt': [352.7328, 396.6994],\n",
       "   'pred': [393.44788, 460.5241],\n",
       "   'best_index': 5}},\n",
       " {0: array([ 54.743393, 107.23659 ], dtype=float32),\n",
       "  1: array([ 53.93296, 140.07104], dtype=float32),\n",
       "  2: array([108.563705, 131.44029 ], dtype=float32),\n",
       "  3: array([135.52855, 160.47548], dtype=float32),\n",
       "  4: array([196.95905, 217.04498], dtype=float32),\n",
       "  5: array([393.44788, 460.5241 ], dtype=float32)})"
      ]
     },
     "execution_count": 19,
     "metadata": {},
     "output_type": "execute_result"
    }
   ],
   "source": [
    "ind_ = 98\n",
    "list(results.keys())[ind_], results[list(results.keys())[ind_]], raw_results[list(results.keys())[ind_]]"
   ]
  },
  {
   "cell_type": "code",
   "execution_count": 22,
   "id": "54577cf3-3e2c-4072-ab93-588424de3c3e",
   "metadata": {},
   "outputs": [
    {
     "data": {
      "text/plain": [
       "('NYhsc9ikk4I',\n",
       " {'0': {'iou': 0.5825819,\n",
       "   'gt': [66.99063, 95.48658],\n",
       "   'pred': [73.33563, 105.012665],\n",
       "   'best_index': 0},\n",
       "  '1': {'iou': 0.624274,\n",
       "   'gt': [146.47934, 221.46869],\n",
       "   'pred': [154.82823, 201.64214],\n",
       "   'best_index': 3},\n",
       "  '2': {'iou': 0.3235407,\n",
       "   'gt': [224.46826, 258.96335],\n",
       "   'pred': [206.76297, 241.35721],\n",
       "   'best_index': 4},\n",
       "  '3': {'iou': 0.25168076,\n",
       "   'gt': [317.45505, 336.9523],\n",
       "   'pred': [325.43417, 363.21988],\n",
       "   'best_index': 7},\n",
       "  '4': {'iou': 0.0, 'gt': [336.9523, 365.44824], 'pred': [], 'best_index': -1},\n",
       "  '5': {'iou': 0.0,\n",
       "   'gt': [365.44824, 374.44696],\n",
       "   'pred': [],\n",
       "   'best_index': -1},\n",
       "  '6': {'iou': 0.26737636,\n",
       "   'gt': [420.94037, 431.43887],\n",
       "   'pred': [405.79724, 445.06213],\n",
       "   'best_index': 8},\n",
       "  '7': {'iou': 0.18885782,\n",
       "   'gt': [431.43887, 477.93225],\n",
       "   'pred': [405.79724, 445.06213],\n",
       "   'best_index': 9}},\n",
       " {0: array([ 73.33563 , 105.012665], dtype=float32),\n",
       "  1: array([ 96.35262, 133.82199], dtype=float32),\n",
       "  2: array([132.42136, 164.38675], dtype=float32),\n",
       "  3: array([154.82823, 201.64214], dtype=float32),\n",
       "  4: array([206.76297, 241.35721], dtype=float32),\n",
       "  5: array([239.0021 , 297.45395], dtype=float32),\n",
       "  6: array([279.9405, 313.5147], dtype=float32),\n",
       "  7: array([325.43417, 363.21988], dtype=float32),\n",
       "  8: array([405.79724, 445.06213], dtype=float32)})"
      ]
     },
     "execution_count": 22,
     "metadata": {},
     "output_type": "execute_result"
    }
   ],
   "source": [
    "ind_ = 56\n",
    "list(results.keys())[ind_], results[list(results.keys())[ind_]], raw_results[list(results.keys())[ind_]]"
   ]
  },
  {
   "cell_type": "code",
   "execution_count": null,
   "id": "a56590d0-b001-438a-98dc-b53a0d284a43",
   "metadata": {},
   "outputs": [],
   "source": []
  },
  {
   "cell_type": "code",
   "execution_count": 14,
   "id": "a91fdf13-f681-424b-a9bc-9325d85ccaed",
   "metadata": {},
   "outputs": [
    {
     "name": "stdout",
     "output_type": "stream",
     "text": [
      "{\n",
      "    \"0\": \"[68.14183, 117.15561]\",\n",
      "    \"1\": \"[84.14755, 134.9491]\",\n",
      "    \"2\": \"[135.89635, 156.42366]\",\n",
      "    \"3\": \"[181.16602, 216.93011]\",\n",
      "    \"4\": \"[215.98392, 257.88126]\",\n",
      "    \"5\": \"[269.7658, 311.92828]\",\n",
      "    \"6\": \"[291.0036, 326.789]\",\n",
      "    \"7\": \"[326.0857, 361.1903]\",\n",
      "    \"8\": \"[378.85477, 402.00937]\",\n",
      "    \"9\": \"[401.35873, 432.45865]\",\n",
      "    \"10\": \"[430.66473, 476.51892]\",\n",
      "    \"11\": \"[430.66473, 476.51892]\",\n",
      "    \"12\": \"[430.66473, 476.51892]\",\n",
      "    \"13\": \"[430.66473, 476.51892]\",\n",
      "    \"14\": \"[430.66473, 476.51892]\",\n",
      "    \"15\": \"[430.66473, 476.51892]\"\n",
      "}\n"
     ]
    }
   ],
   "source": [
    "import json\n",
    "test = raw_results[list(results.keys())[ind_]]\n",
    "test = {str(k):str(list(v)) for k,v in test.items()}\n",
    "print(json.dumps(test, indent=4))"
   ]
  },
  {
   "cell_type": "code",
   "execution_count": 26,
   "id": "8622aa10-ccb6-4af0-9797-4d58c0025fbf",
   "metadata": {},
   "outputs": [],
   "source": [
    "def Average(lst):\n",
    "    return sum(lst) / len(lst)\n",
    "\n",
    "results_vid_iou = {vid:Average([v['iou'] for k,v in result.items()]) for vid, result in results.items()} "
   ]
  },
  {
   "cell_type": "code",
   "execution_count": 54,
   "id": "612fe57d-ef2b-4b1c-9295-3b95121fa9da",
   "metadata": {},
   "outputs": [],
   "source": [
    "results_vid_iou_good = {k:v for k,v in results_vid_iou.items() if v > 0.64}\n",
    "results_vid_iou_bad = {k:v for k,v in results_vid_iou.items() if v < 0.29}"
   ]
  },
  {
   "cell_type": "code",
   "execution_count": 55,
   "id": "5c29b58d-af02-41d8-865d-b0cf420759c3",
   "metadata": {},
   "outputs": [
    {
     "data": {
      "text/plain": [
       "({'vLcBGs389k4': 0.6491352468729019,\n",
       "  'zPCtV7YcmkA': 0.6616055568059286,\n",
       "  '4apR0YypAGc': 0.6538130715489388,\n",
       "  'WlHWRPyA7_g': 0.6866569618384043,\n",
       "  'DHpQOhQhW3A': 0.6465556025505066},\n",
       " {'sBJJ0Cj0GG4': 0.2877267375588417,\n",
       "  'fn9anlEL4FI': 0.28432218823581934,\n",
       "  '-dh_uGahzYo': 0.170203671273258,\n",
       "  '2-mxsib6pJo': 0.28805758378335405,\n",
       "  'sGzBQrg1adY': 0.19011149276047945,\n",
       "  '6seOEuK0ojg': 0.20878860460860388})"
      ]
     },
     "execution_count": 55,
     "metadata": {},
     "output_type": "execute_result"
    }
   ],
   "source": [
    "results_vid_iou_good, results_vid_iou_bad"
   ]
  },
  {
   "cell_type": "code",
   "execution_count": 108,
   "id": "7db04af5-bfcb-4a39-a5d9-72035ff38851",
   "metadata": {},
   "outputs": [
    {
     "data": {
      "text/plain": [
       "{0: array([29.105045, 71.41049 ], dtype=float32),\n",
       " 1: array([ 59.09948, 101.40493], dtype=float32),\n",
       " 2: array([ 89.09893, 131.40439], dtype=float32),\n",
       " 3: array([119.10808, 161.41353], dtype=float32),\n",
       " 4: array([149.10504, 191.41049], dtype=float32),\n",
       " 5: array([184.10504, 226.41049], dtype=float32),\n",
       " 6: array([214.10504, 256.4105 ], dtype=float32),\n",
       " 7: array([249.08904, 291.3945 ], dtype=float32),\n",
       " 8: array([274.08902, 316.3945 ], dtype=float32),\n",
       " 9: array([319.08902, 361.3945 ], dtype=float32),\n",
       " 10: array([344.08902, 386.3945 ], dtype=float32),\n",
       " 11: array([369.08905, 411.39447], dtype=float32),\n",
       " 12: array([394.08905, 436.39447], dtype=float32),\n",
       " 13: array([414.08902, 456.3945 ], dtype=float32),\n",
       " 14: array([439.08902, 481.3945 ], dtype=float32),\n",
       " 15: array([439.08902, 481.3945 ], dtype=float32)}"
      ]
     },
     "execution_count": 108,
     "metadata": {},
     "output_type": "execute_result"
    }
   ],
   "source": [
    "# https://youtu.be/-AwyG1JcMp8\n",
    "raw_results[\"-AwyG1JcMp8\"]"
   ]
  },
  {
   "cell_type": "code",
   "execution_count": 101,
   "id": "f35af56c-660b-4392-9bb9-5d4a51a7b60d",
   "metadata": {},
   "outputs": [],
   "source": [
    "with open(\"/disk/scratch_fast/s2004019/youcook2/features/transcript_per_sec_all.json\", \"r\") as f:\n",
    "    data = json.load(f)"
   ]
  },
  {
   "cell_type": "code",
   "execution_count": 24,
   "id": "805de56c-4f82-40ea-8ce5-68b5750cad1c",
   "metadata": {},
   "outputs": [],
   "source": [
    "def levenstein(p, y, norm=False):\n",
    "    m_row = len(p)    \n",
    "    n_col = len(y)\n",
    "    D = np.zeros([m_row+1, n_col+1], float)\n",
    "    for i in range(m_row+1):\n",
    "        D[i, 0] = i\n",
    "    for i in range(n_col+1):\n",
    "        D[0, i] = i\n",
    "\n",
    "    for j in range(1, n_col+1):\n",
    "        for i in range(1, m_row+1):\n",
    "            if y[j-1] == p[i-1]:\n",
    "                D[i, j] = D[i-1, j-1]\n",
    "            else:\n",
    "                D[i, j] = min(D[i-1, j] + 1,\n",
    "                              D[i, j-1] + 1,\n",
    "                              D[i-1, j-1] + 1)\n",
    "    \n",
    "    if norm:\n",
    "        score = (1 - D[-1, -1]/max(m_row, n_col)) * 100\n",
    "    else:\n",
    "        score = D[-1, -1]\n",
    "\n",
    "    return score\n"
   ]
  },
  {
   "cell_type": "code",
   "execution_count": 25,
   "id": "63bdcf88-4d84-453e-af8e-f07a32f0eb06",
   "metadata": {},
   "outputs": [
    {
     "data": {
      "text/plain": [
       "25.0"
      ]
     },
     "execution_count": 25,
     "metadata": {},
     "output_type": "execute_result"
    }
   ],
   "source": [
    "y_labels = [1,2,3,4]\n",
    "p_labels = [3,5,4]\n",
    "levenstein(p_labels, y_labels, True)"
   ]
  },
  {
   "cell_type": "code",
   "execution_count": 26,
   "id": "638f9059-6898-4a7b-9572-fe84c8051393",
   "metadata": {},
   "outputs": [
    {
     "name": "stdout",
     "output_type": "stream",
     "text": [
      "['3', '5', '6'] ['1', '2', '3', '4'] 0.0\n",
      "0.0\n"
     ]
    }
   ],
   "source": [
    "edit_score = []\n",
    "for vid, result in results.items():\n",
    "    y_label= []\n",
    "    p_label = []\n",
    "    for k,v in result.items():\n",
    "        y_label.append(str(int(k) + 1))\n",
    "        if v[\"best_index\"]+1 > 0:\n",
    "            p_label.append(str(v[\"best_index\"]+1))\n",
    "    \n",
    "    edit = levenstein(p_label, y_label, True)\n",
    "    print(p_label, y_label, edit)\n",
    "    edit_score.append(edit)\n",
    "    break\n",
    "print(np.nanmean(edit_score))"
   ]
  },
  {
   "cell_type": "code",
   "execution_count": 24,
   "id": "417ced41-56e3-4727-a4df-dc6de05a03fd",
   "metadata": {},
   "outputs": [
    {
     "data": {
      "text/plain": [
       "{'0': {'iou': 0.0, 'gt': [125.99558, 149.3281], 'pred': [], 'best_index': -1},\n",
       " '1': {'iou': 0.85044336,\n",
       "  'gt': [150.99469, 182.66025],\n",
       "  'pred': [153.35834, 185.44955],\n",
       "  'best_index': 2},\n",
       " '2': {'iou': 0.5899308,\n",
       "  'gt': [184.32684, 220.99222],\n",
       "  'pred': [194.06398, 229.97328],\n",
       "  'best_index': 4},\n",
       " '3': {'iou': 0.40845892,\n",
       "  'gt': [222.65883, 300.98938],\n",
       "  'pred': [244.71954, 276.71436],\n",
       "  'best_index': 5}}"
      ]
     },
     "execution_count": 24,
     "metadata": {},
     "output_type": "execute_result"
    }
   ],
   "source": [
    "result"
   ]
  },
  {
   "cell_type": "code",
   "execution_count": null,
   "id": "66ac94e6-997f-4b32-a45b-42fd3d35105a",
   "metadata": {},
   "outputs": [],
   "source": [
    "# Testing : 31.9064438647772\n",
    "# Validation : 32.12256322912061"
   ]
  }
 ],
 "metadata": {
  "kernelspec": {
   "display_name": "Python 3",
   "language": "python",
   "name": "python3"
  },
  "language_info": {
   "codemirror_mode": {
    "name": "ipython",
    "version": 3
   },
   "file_extension": ".py",
   "mimetype": "text/x-python",
   "name": "python",
   "nbconvert_exporter": "python",
   "pygments_lexer": "ipython3",
   "version": "3.8.5"
  }
 },
 "nbformat": 4,
 "nbformat_minor": 5
}
