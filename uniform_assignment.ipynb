{
 "cells": [
  {
   "cell_type": "code",
   "execution_count": 11,
   "id": "2bd5b205-d311-42c4-b278-b329ae56fccc",
   "metadata": {},
   "outputs": [],
   "source": [
    "import os\n",
    "import random\n",
    "import json\n",
    "import math\n",
    "\n",
    "import numpy as np\n",
    "import torch as th\n",
    "import torch.nn as nn\n",
    "from tqdm import tqdm"
   ]
  },
  {
   "cell_type": "code",
   "execution_count": 3,
   "id": "e5bd7d16-9cee-49ed-9fc2-9c0b5ff8b391",
   "metadata": {},
   "outputs": [],
   "source": [
    "dur_file=\"/disk/scratch_fast/s2004019/youcook2/yc2/yc2_duration_frame.csv\"\n",
    "annotation_file=\"/disk/scratch_fast/s2004019/youcook2/yc2/yc2_new_annotations_trainval_test.json\""
   ]
  },
  {
   "cell_type": "code",
   "execution_count": 71,
   "id": "86d8ad20-c2a8-4c7b-8566-acea2dc495d9",
   "metadata": {},
   "outputs": [],
   "source": [
    "dur_frame_dict = {}\n",
    "with open(dur_file, \"r\") as f:\n",
    "    for line in f:\n",
    "        vid_name, vid_dur, vid_frame = [\n",
    "            l.strip() for l in line.split(',')]\n",
    "        dur_frame_dict[vid_name] = (float(vid_dur), int(vid_frame))\n",
    "    \n",
    "with open(annotation_file, \"r\") as f:\n",
    "    my_master = json.load(f)"
   ]
  },
  {
   "cell_type": "code",
   "execution_count": 6,
   "id": "8406b5ba-f6ff-40c0-8af8-3ef85a40e158",
   "metadata": {},
   "outputs": [],
   "source": [
    "full_annotation_file=\"/disk/scratch_fast/s2004019/youcook2/yc2/yc2_annotations_trainval.json\"\n",
    "with open(full_annotation_file, \"r\") as f:\n",
    "    master_full = json.load(f)"
   ]
  },
  {
   "cell_type": "code",
   "execution_count": 7,
   "id": "ec5b23d5-8723-4f92-a4c7-1b9a787a71ae",
   "metadata": {},
   "outputs": [
    {
     "data": {
      "text/plain": [
       "457"
      ]
     },
     "execution_count": 7,
     "metadata": {},
     "output_type": "execute_result"
    }
   ],
   "source": [
    "full_validation = {}\n",
    "for key, item in master_full[\"database\"].items():\n",
    "    if item[\"subset\"] == \"validation\":\n",
    "        full_validation[key] = item\n",
    "\n",
    "len(full_validation)"
   ]
  },
  {
   "cell_type": "code",
   "execution_count": 186,
   "id": "9e101cd6-fa92-449c-8fec-41cb9f83948e",
   "metadata": {},
   "outputs": [
    {
     "name": "stdout",
     "output_type": "stream",
     "text": [
      "183\n"
     ]
    },
    {
     "data": {
      "text/plain": [
       "180"
      ]
     },
     "execution_count": 186,
     "metadata": {},
     "output_type": "execute_result"
    }
   ],
   "source": [
    "my_validation = {}\n",
    "for key, item in my_master[\"database\"].items():\n",
    "    if item[\"subset\"] == \"validation\":\n",
    "        my_validation[key] = item\n",
    "\n",
    "print(len(my_validation))\n",
    "\n",
    "\n",
    "my_testing = {}\n",
    "for key, item in my_master[\"database\"].items():\n",
    "    if item[\"subset\"] == \"testing\":\n",
    "        my_testing[key] = item\n",
    "\n",
    "len(my_testing)"
   ]
  },
  {
   "cell_type": "code",
   "execution_count": 24,
   "id": "1ebe7cf0-de27-4bb8-b628-4b6650676bf2",
   "metadata": {},
   "outputs": [],
   "source": [
    "segment_duration_full = {k:0 for k in range(200)}\n",
    "for vid, ann in full_validation.items():\n",
    "    for segment in ann[\"annotations\"]:\n",
    "        length = math.ceil(segment[\"segment\"][1] - segment[\"segment\"][0])\n",
    "        segment_duration_full[length] += 1"
   ]
  },
  {
   "cell_type": "code",
   "execution_count": 96,
   "id": "ec88a3d5-7dda-4136-acde-72f4bfe67ab1",
   "metadata": {},
   "outputs": [
    {
     "name": "stdout",
     "output_type": "stream",
     "text": [
      "{0: 0, 1: 14, 2: 67, 3: 101, 4: 152, 5: 159, 6: 138, 7: 174, 8: 139, 9: 175, 10: 170, 11: 122, 12: 116, 13: 131, 14: 126, 15: 122, 16: 96, 17: 81, 18: 90, 19: 77, 20: 91, 21: 73, 22: 74, 23: 72, 24: 64, 25: 54, 26: 47, 27: 37, 28: 46, 29: 38, 30: 52, 31: 31, 32: 26, 33: 26, 34: 20, 35: 26, 36: 22, 37: 28, 38: 26, 39: 23, 40: 20, 41: 13, 42: 16, 43: 15, 44: 16, 45: 14, 46: 13, 47: 6, 48: 14, 49: 13, 50: 16, 51: 13, 52: 15, 53: 10, 54: 8, 55: 11, 56: 8, 57: 3, 58: 13, 59: 2, 60: 6, 61: 3, 62: 6, 63: 5, 64: 3, 65: 4, 66: 5, 67: 5, 68: 3, 69: 4, 70: 3, 71: 3, 72: 2, 73: 5, 74: 1, 75: 1, 76: 4, 77: 5, 78: 3, 79: 0, 80: 4, 81: 1, 82: 2, 83: 2, 84: 2, 85: 2, 86: 2, 87: 0, 88: 2, 89: 2, 90: 1, 91: 1, 92: 1, 93: 1, 94: 1, 95: 2, 96: 0, 97: 0, 98: 0, 99: 1, 100: 1, 101: 1, 102: 0, 103: 0, 104: 2, 105: 0, 106: 1, 107: 0, 108: 1, 109: 1, 110: 0, 111: 0, 112: 0, 113: 0, 114: 0, 115: 0, 116: 0, 117: 0, 118: 0, 119: 1, 120: 0, 121: 1, 122: 1, 123: 0, 124: 0, 125: 1, 126: 0, 127: 1, 128: 0, 129: 0, 130: 0, 131: 0, 132: 2, 133: 0, 134: 0, 135: 0, 136: 0, 137: 1, 138: 1, 139: 0, 140: 1, 141: 0, 142: 0, 143: 1, 144: 0, 145: 2, 146: 0, 147: 0, 148: 1, 149: 1, 150: 0, 151: 0, 152: 0, 153: 0, 154: 1, 155: 0, 156: 0, 157: 0, 158: 1, 159: 0, 160: 0, 161: 0, 162: 0, 163: 0, 164: 0, 165: 0, 166: 0, 167: 0, 168: 1, 169: 0, 170: 1, 171: 0, 172: 0, 173: 0, 174: 0, 175: 0, 176: 0, 177: 0, 178: 0, 179: 1, 180: 0, 181: 0, 182: 0, 183: 0, 184: 0, 185: 0, 186: 0, 187: 0, 188: 0, 189: 0, 190: 0, 191: 0, 192: 0, 193: 0, 194: 0, 195: 0, 196: 1, 197: 0, 198: 0, 199: 1}\n"
     ]
    }
   ],
   "source": [
    "print(segment_duration_full)"
   ]
  },
  {
   "cell_type": "code",
   "execution_count": 97,
   "id": "b37dcd49-5e8f-41e7-9ec9-c744c1060e47",
   "metadata": {},
   "outputs": [],
   "source": [
    "x = {k: v for k, v in sorted(segment_duration_full.items(), key=lambda item: item[1]) if v > 100}"
   ]
  },
  {
   "cell_type": "code",
   "execution_count": 99,
   "id": "27be7da1-918a-43d5-b71c-ab407db09c9b",
   "metadata": {},
   "outputs": [
    {
     "name": "stdout",
     "output_type": "stream",
     "text": [
      "138.0\n",
      "{3: 101, 12: 116, 11: 122, 15: 122, 14: 126, 13: 131, 6: 138, 8: 139, 4: 152, 5: 159, 10: 170, 7: 174, 9: 175}\n"
     ]
    }
   ],
   "source": [
    "print(np.median(list(x.values())))\n",
    "print(x)"
   ]
  },
  {
   "cell_type": "code",
   "execution_count": 56,
   "id": "e07a25a1-12b8-46f7-9492-659979f1c38e",
   "metadata": {},
   "outputs": [
    {
     "name": "stdout",
     "output_type": "stream",
     "text": [
      "dict_values([11, 13, 13, 13, 13, 13, 14, 14, 14, 15, 15, 16, 16, 16, 20, 20, 22, 23, 26, 26, 26, 26, 28, 31, 37, 38, 46, 47, 52, 54, 64, 67, 72, 73, 74, 77, 81, 90, 91, 96, 101, 116, 122, 122, 126, 131, 138, 139, 152, 159, 170, 174, 175])\n",
      "46.0\n"
     ]
    },
    {
     "data": {
      "text/plain": [
       "(None, None)"
      ]
     },
     "execution_count": 56,
     "metadata": {},
     "output_type": "execute_result"
    }
   ],
   "source": [
    "print(x.values()), print(np.median(list(x.values())))"
   ]
  },
  {
   "cell_type": "code",
   "execution_count": 49,
   "id": "420e7989-d1a6-4941-97c4-9e4a7509af7f",
   "metadata": {},
   "outputs": [],
   "source": [
    "x1 = np.array(list(x.values()))"
   ]
  },
  {
   "cell_type": "code",
   "execution_count": 53,
   "id": "07c30791-e8e1-49d4-b3b5-41c249fe5820",
   "metadata": {},
   "outputs": [
    {
     "data": {
      "text/plain": [
       "7"
      ]
     },
     "execution_count": 53,
     "metadata": {},
     "output_type": "execute_result"
    }
   ],
   "source": [
    "len(x1[x1==3])"
   ]
  },
  {
   "cell_type": "code",
   "execution_count": 121,
   "id": "ee019418-e11b-4472-add5-32db73319106",
   "metadata": {},
   "outputs": [],
   "source": [
    "def get_uniform_label_withones(segments, total, max_len=30):\n",
    "    ones_in_segment = math.ceil(total / (2*segments))\n",
    "    ones_in_segment = min(ones_in_segment, max_len)\n",
    "    total_zeros = total - ones_in_segment * segments\n",
    "    one_segment_label = [1]*ones_in_segment\n",
    "    segment_pre_zero = math.floor(total_zeros / segments)\n",
    "    zero_segment_label = [0]*segment_pre_zero\n",
    "    label = []\n",
    "    for k in range(segments):\n",
    "        label.append(zero_segment_label)\n",
    "        label.append(one_segment_label)\n",
    "    ll = [item for sublist in label[:total] for item in sublist]\n",
    "    return ll"
   ]
  },
  {
   "cell_type": "code",
   "execution_count": 130,
   "id": "0c1e228e-e652-4ae6-a9e7-c171d0dc3340",
   "metadata": {},
   "outputs": [],
   "source": [
    "def get_labels_start_end_time(frame_wise_labels, bg_class=[\"0\"]):\n",
    "    labels = []\n",
    "    starts = []\n",
    "    ends = []\n",
    "    last_label = frame_wise_labels[0]\n",
    "    if frame_wise_labels[0] not in bg_class:\n",
    "        labels.append(frame_wise_labels[0])\n",
    "        starts.append(0)\n",
    "    for i in range(len(frame_wise_labels)):\n",
    "        if frame_wise_labels[i] != last_label:\n",
    "            if frame_wise_labels[i] not in bg_class:\n",
    "                labels.append(frame_wise_labels[i])\n",
    "                starts.append(i)\n",
    "            if last_label not in bg_class:\n",
    "                ends.append(i-1)\n",
    "            last_label = frame_wise_labels[i]\n",
    "    if last_label not in bg_class:\n",
    "        ends.append(i)\n",
    "    return labels, starts, ends\n",
    "\n",
    "\n",
    "def mean_iou(recognized, ground_truth, overlap, bg_class=[\"background\"]):\n",
    "    p_label, p_start, p_end = get_labels_start_end_time(recognized, bg_class)\n",
    "    y_label, y_start, y_end = get_labels_start_end_time(ground_truth, bg_class)\n",
    "    ious = []\n",
    "    hits = np.zeros(len(y_label))\n",
    "    for j in range(len(p_label)):\n",
    "        intersection = np.minimum(p_end[j], y_end) - np.maximum(p_start[j], y_start)\n",
    "        intersection[intersection <= 0] = 0\n",
    "        union = np.maximum(p_end[j], y_end) - np.minimum(p_start[j], y_start)\n",
    "        IoU = (1.0*intersection / union)*([p_label[j] == y_label[x] for x in range(len(y_label))])\n",
    "        # Get the best scoring segment\n",
    "        idx = np.array(IoU).argmax()\n",
    "        #if not hits[idx]:\n",
    "        #    hits[idx] = 1\n",
    "        ious.append(IoU[idx])\n",
    "\n",
    "    return np.mean(ious)\n",
    "\n",
    "\n",
    "def mean_jaccard(recognized, ground_truth, overlap, bg_class=[\"background\"]):\n",
    "    p_label, p_start, p_end = get_labels_start_end_time(recognized, bg_class)\n",
    "    y_label, y_start, y_end = get_labels_start_end_time(ground_truth, bg_class)\n",
    "    jaccs = []\n",
    "    hits = np.zeros(len(y_label))\n",
    "    for j in range(len(p_label)):\n",
    "        intersection = np.minimum(p_end[j], y_end) - np.maximum(p_start[j], y_start)\n",
    "        intersection[intersection <= 0] = 0\n",
    "        denom = p_end[j] - p_start[j]\n",
    "        jacc = (1.0*intersection / denom)*([p_label[j] == y_label[x] for x in range(len(y_label))])\n",
    "        # Get the best scoring segment\n",
    "        idx = np.array(jacc).argmax()\n",
    "        # if not hits[idx]:\n",
    "        #    hits[idx] = 1\n",
    "        jaccs.append(jacc[idx])\n",
    "    return np.mean(jaccs)\n",
    "\n",
    "def getUniformScore(target, num_segments, bg_class=[\"0\"], max_len=30):\n",
    "    y_label, y_start, y_end = get_labels_start_end_time(target, bg_class) \n",
    "    uniform_pred = get_uniform_label_withones(len(y_label), len(target), max_len)\n",
    "    recognition = []\n",
    "    for i in range(len(uniform_pred)):\n",
    "        recognition.append(str(int(uniform_pred[i])))\n",
    "    return mean_iou(recognition, target, None, bg_class=[\"0\"]), mean_jaccard(recognition, target, None, bg_class=[\"0\"])"
   ]
  },
  {
   "cell_type": "code",
   "execution_count": 131,
   "id": "986ce8e5-2a7c-42b4-bc91-689e5f00112a",
   "metadata": {},
   "outputs": [
    {
     "name": "stdout",
     "output_type": "stream",
     "text": [
      "0.2299455494084134 0.44223830632299516\n"
     ]
    }
   ],
   "source": [
    "frames_per_video = 500\n",
    "aug_number = 1\n",
    "\n",
    "ious = []\n",
    "jaccs = []\n",
    "for vid, item in full_validation.items():\n",
    "    annotations = item[\"annotations\"]\n",
    "    \n",
    "    duration_t = dur_frame_dict[vid][0]\n",
    "    total_frame = dur_frame_dict[vid][1]\n",
    "    sampling_itv = math.ceil(total_frame/frames_per_video)\n",
    "    time_per_sampled_frame = sampling_itv*duration_t/total_frame\n",
    "    aug_frame_shift = max(math.floor(\n",
    "        sampling_itv/10), 1)*frames_per_video/total_frame\n",
    "\n",
    "    label = np.zeros(frames_per_video)\n",
    "    num_segments = len(annotations)\n",
    "    for ann_i, ann in enumerate(annotations):\n",
    "        start = float(ann[\"segment\"][0])\n",
    "        end = float(ann[\"segment\"][1])\n",
    "        start = start/time_per_sampled_frame + \\\n",
    "            1-aug_frame_shift*(aug_number-1)\n",
    "        end = end/time_per_sampled_frame+1-aug_frame_shift*(aug_number-1)\n",
    "        label[math.floor(start):math.ceil(end)] = 1\n",
    "    \n",
    "    target = []\n",
    "    for i in range(len(label)):\n",
    "        target.append(str(int(label[i])))\n",
    "    iou, jacc = getUniformScore(target, num_segments)\n",
    "    ious.append(iou)\n",
    "    jaccs.append(jacc)\n",
    "print(np.nanmean(ious), np.nanmean(jaccs))"
   ]
  },
  {
   "cell_type": "code",
   "execution_count": 132,
   "id": "a4bf59ff-d589-4afd-bc7f-7bf12ab8cc81",
   "metadata": {},
   "outputs": [
    {
     "name": "stdout",
     "output_type": "stream",
     "text": [
      "0.258332296109148 0.4406784675286247\n"
     ]
    }
   ],
   "source": [
    "ious = []\n",
    "jaccs = []\n",
    "for vid, item in full_validation.items():\n",
    "    annotations = item[\"annotations\"]\n",
    "    \n",
    "    duration_t = dur_frame_dict[vid][0]\n",
    "    total_frame = dur_frame_dict[vid][1]\n",
    "    frame_to_second = float(duration_t)*int(float(total_frame)*1./int(float(total_frame)))*1./float(total_frame)\n",
    "    fps = total_frame / duration_t\n",
    "    label = np.zeros(total_frame)\n",
    "    for ann_i, ann in enumerate(annotations):\n",
    "        start = float(ann[\"segment\"][0])\n",
    "        end = float(ann[\"segment\"][1])\n",
    "        start = start * fps\n",
    "        end = end * fps\n",
    "        label[math.floor(start):math.ceil(end)] = 1\n",
    "    \n",
    "    target = []\n",
    "    for i in range(len(label)):\n",
    "        target.append(str(int(label[i])))\n",
    "    iou, jacc = getUniformScore(target, len(annotations), max_len=25*25)\n",
    "    ious.append(iou)\n",
    "    jaccs.append(jacc)\n",
    "print(np.nanmean(ious), np.nanmean(jaccs))"
   ]
  },
  {
   "cell_type": "code",
   "execution_count": 164,
   "id": "6dc8bced-81c0-4ad4-ab9f-6ecde43d6f6f",
   "metadata": {},
   "outputs": [],
   "source": [
    "def compute_iou(c1, c2):\n",
    "    intersection = max(0, min(c1[1], c2[1])-max(c1[0], c2[0]))\n",
    "    if intersection == 0:\n",
    "        return 0\n",
    "    else:\n",
    "        union = max(c1[1], c2[1]) - min(c1[0], c2[0])\n",
    "        return intersection/union\n",
    "\n",
    "def compute_jacc(c1, c2):\n",
    "    intersection = max(0, min(c1[1], c2[1])-max(c1[0], c2[0]))\n",
    "    if intersection == 0:\n",
    "        return 0\n",
    "    else:\n",
    "        union = (c1[1]-c1[0])\n",
    "        return intersection/union"
   ]
  },
  {
   "cell_type": "code",
   "execution_count": 184,
   "id": "8787ae02-7910-4a1e-8d9e-a1ca9d60f17b",
   "metadata": {},
   "outputs": [
    {
     "name": "stdout",
     "output_type": "stream",
     "text": [
      "36.392 40.432\n"
     ]
    }
   ],
   "source": [
    "ious = []\n",
    "jaccs = []\n",
    "for vid, item in my_testing.items():\n",
    "    annotations = item[\"annotations\"]\n",
    "    \n",
    "    duration_t = dur_frame_dict[vid][0]\n",
    "    total_frame = dur_frame_dict[vid][1]\n",
    "    sampling_itv = math.ceil(total_frame/frames_per_video)\n",
    "    time_per_sampled_frame = sampling_itv*duration_t/total_frame\n",
    "    aug_frame_shift = max(math.floor(\n",
    "        sampling_itv/10), 1)*frames_per_video/total_frame\n",
    "\n",
    "    label = []\n",
    "    num_segments = len(annotations)\n",
    "    for ann_i, ann in enumerate(annotations):\n",
    "        start = float(ann[\"segment\"][0])\n",
    "        end = float(ann[\"segment\"][1])\n",
    "#         start = start/time_per_sampled_frame + \\\n",
    "#             1-aug_frame_shift*(aug_number-1)\n",
    "#         end = end/time_per_sampled_frame+1-aug_frame_shift*(aug_number-1)\n",
    "        label.append([round(start, 5), round(end,5)])\n",
    "    \n",
    "    total_segs = 2 * num_segments + 1\n",
    "    total_segs = num_segments\n",
    "    interval = duration_t / total_segs\n",
    "    \n",
    "    uniform_preds = []\n",
    "    for i in range(total_segs):\n",
    "        #if i % 2 == 0:\n",
    "        #    continue\n",
    "        start = i*interval\n",
    "        end = (i+1)*interval\n",
    "#         start = start/time_per_sampled_frame + \\\n",
    "#             1-aug_frame_shift*(aug_number-1)\n",
    "#         end = end/time_per_sampled_frame+1-aug_frame_shift*(aug_number-1)\n",
    "        uniform_preds.append([round(start, 5), round(end,5)])\n",
    "    \n",
    "    iou_clip = 0.\n",
    "    jacc_clip = 0.\n",
    "    for i in range(num_segments):\n",
    "        best_iou = 0.\n",
    "        best_jacc = 0.\n",
    "        for j in range(num_segments):\n",
    "            clip_boundary = uniform_preds[j]\n",
    "            current_iou = compute_iou(clip_boundary, label[i])\n",
    "            if current_iou > best_iou:\n",
    "                best_iou = current_iou\n",
    "            current_jacc = compute_jacc(clip_boundary, label[i])\n",
    "            if current_jacc > best_jacc:\n",
    "                best_jacc = current_jacc\n",
    "        iou_clip += best_iou\n",
    "        jacc_clip += best_jacc\n",
    "    ious.append(iou_clip/num_segments)\n",
    "    jaccs.append(jacc_clip/num_segments)\n",
    "print(round(100*np.nanmean(ious),3), round(100*np.nanmean(jaccs),3))"
   ]
  },
  {
   "cell_type": "code",
   "execution_count": 177,
   "id": "02078a01-e15d-4d29-848b-d8adf812ba34",
   "metadata": {},
   "outputs": [
    {
     "data": {
      "text/plain": [
       "0.3579"
      ]
     },
     "execution_count": 177,
     "metadata": {},
     "output_type": "execute_result"
    }
   ],
   "source": [
    "round(0.35794000734444126, 4)"
   ]
  },
  {
   "cell_type": "code",
   "execution_count": 136,
   "id": "8e03316e-dd8f-4c00-a7e5-6dd5b893bdea",
   "metadata": {},
   "outputs": [
    {
     "data": {
      "text/plain": [
       "9.427692307692308"
      ]
     },
     "execution_count": 136,
     "metadata": {},
     "output_type": "execute_result"
    }
   ],
   "source": [
    "122.56/13"
   ]
  },
  {
   "cell_type": "code",
   "execution_count": 143,
   "id": "4021aead-f4c3-45c4-b28c-3c19e441e0a6",
   "metadata": {},
   "outputs": [],
   "source": [
    "interval = 122.56/13\n",
    "segs = []\n",
    "for i in range(13):\n",
    "    if i % 2 == 0:\n",
    "        continue\n",
    "    segs.append((i*interval, (i+1)*interval))"
   ]
  },
  {
   "cell_type": "code",
   "execution_count": 144,
   "id": "21525d14-a86e-4c70-803b-542de38fab74",
   "metadata": {},
   "outputs": [
    {
     "data": {
      "text/plain": [
       "[(9.427692307692308, 18.855384615384615),\n",
       " (28.283076923076923, 37.71076923076923),\n",
       " (47.13846153846154, 56.566153846153846),\n",
       " (65.99384615384615, 75.42153846153846),\n",
       " (84.84923076923077, 94.27692307692308),\n",
       " (103.70461538461538, 113.13230769230769)]"
      ]
     },
     "execution_count": 144,
     "metadata": {},
     "output_type": "execute_result"
    }
   ],
   "source": [
    "segs"
   ]
  },
  {
   "cell_type": "code",
   "execution_count": 145,
   "id": "48e46d20-4820-4e27-bb64-e83a77672102",
   "metadata": {},
   "outputs": [
    {
     "data": {
      "text/plain": [
       "1366.4001305483027"
      ]
     },
     "execution_count": 145,
     "metadata": {},
     "output_type": "execute_result"
    }
   ],
   "source": [
    "start"
   ]
  },
  {
   "cell_type": "code",
   "execution_count": null,
   "id": "85a2a945-4a68-4dd0-b9d1-a8b56016ceca",
   "metadata": {},
   "outputs": [],
   "source": []
  }
 ],
 "metadata": {
  "kernelspec": {
   "display_name": "Python 3",
   "language": "python",
   "name": "python3"
  },
  "language_info": {
   "codemirror_mode": {
    "name": "ipython",
    "version": 3
   },
   "file_extension": ".py",
   "mimetype": "text/x-python",
   "name": "python",
   "nbconvert_exporter": "python",
   "pygments_lexer": "ipython3",
   "version": "3.8.5"
  }
 },
 "nbformat": 4,
 "nbformat_minor": 5
}
